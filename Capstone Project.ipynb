{
 "cells": [
  {
   "cell_type": "markdown",
   "metadata": {
    "editable": true
   },
   "source": [
    "### Capstone Project(Data Engineering)\n",
    "\n",
    "#### Project Summary\n",
    "The Project is to build an Datawarehouse where data is taken from three different sources, build ETL pipleline for the I94 Immigration, U.S. City Demographic and World Temperature data datasets using Pyspark. We create the star schema with the four dimension tables and one fact table and the results being saved in paraquet files for the downstream analysis which is helpful to the analytical team.\n",
    "\n",
    "Dimension Tables:\n",
    "\n",
    "1. Cities\n",
    "2. Immigrants\n",
    "3. Monthly average city temperature \n",
    "4. Time\n",
    "\n",
    "Fact Tables:\n",
    "1. Immigration\n",
    "\n",
    "Data taken from three different sources\n",
    "1. I94 immigration dataset of 2016\n",
    "2. City temperature\n",
    "3. US city demographic data\n",
    "\n",
    "\n",
    "The project follows the follow steps:\n",
    "* Step 1: Scope the Project and Gather Data\n",
    "* Step 2: Explore and Assess the Data\n",
    "* Step 3: Define the Data Model\n",
    "* Step 4: Run ETL to Model the Data\n",
    "* Step 5: Complete Project Write Up"
   ]
  },
  {
   "cell_type": "code",
   "execution_count": 2,
   "metadata": {
    "editable": true
   },
   "outputs": [],
   "source": [
    "# Do all imports and installs here\n",
    "#!pip install pyspark\n",
    "import pandas as pd\n",
    "import os\n",
    "import glob\n",
    "import re\n",
    "from datetime import datetime, timedelta\n",
    "from pprint import pprint\n",
    "from pyspark.sql import SparkSession\n",
    "from pyspark.sql.functions import count, col, udf, year, month, avg, round, dayofweek, weekofyear, isnull\n",
    "from pyspark.sql.types import StringType, IntegerType\n",
    "import Cleaned as Cleaned\n",
    "import numpy as np\n",
    "import pandas as pd\n",
    "import glob \n"
   ]
  },
  {
   "cell_type": "markdown",
   "metadata": {
    "editable": true
   },
   "source": [
    "### Step 1: Scope the Project and Gather Data\n",
    "\n",
    "#### Scope \n",
    "The goal of this project is pull data from 3 different sources and createdimension, fact table to analyze US immigration using city demographics, season, avg temperature.\n",
    "\n",
    "#### Describe and Gather Data \n",
    "\n",
    "I94 Immigration Data: This data comes from the U.S. National Tourism and Trade Office and contains various statistics on international visitor arrival in USA.\n",
    "World Temperature Data: This data comes from Kaggle and contains average weather temperatures by city. \n",
    "U.S. City Demographic Data: comes from OpenSoft and contains information about the demographics of all US cities such as average age, male and female population. \n"
   ]
  },
  {
   "cell_type": "markdown",
   "metadata": {
    "editable": true
   },
   "source": [
    "# Load data from CSV file\n"
   ]
  },
  {
   "cell_type": "markdown",
   "metadata": {
    "editable": true
   },
   "source": [
    "### Load Airport Codes,Immigration, US Cities Demographic\n",
    "1. Creat Spark Session\n",
    "2. Read CSV File\n",
    "3. Display data frame"
   ]
  },
  {
   "cell_type": "code",
   "execution_count": 3,
   "metadata": {
    "editable": true
   },
   "outputs": [],
   "source": [
    "# create pyspark session\n",
    "pySparkSession = SparkSession.builder.\\\n",
    "config(\"spark.jars.repositories\", \"https://repos.spark-packages.org/\").\\\n",
    "config(\"spark.jars.packages\", \"saurfang:spark-sas7bdat:2.0.0-s_2.11\").\\\n",
    "enableHiveSupport().getOrCreate()\n"
   ]
  },
  {
   "cell_type": "markdown",
   "metadata": {
    "editable": true
   },
   "source": [
    "## Load airports information"
   ]
  },
  {
   "cell_type": "code",
   "execution_count": 4,
   "metadata": {
    "editable": true
   },
   "outputs": [
    {
     "data": {
      "text/html": [
       "<div>\n",
       "<style scoped>\n",
       "    .dataframe tbody tr th:only-of-type {\n",
       "        vertical-align: middle;\n",
       "    }\n",
       "\n",
       "    .dataframe tbody tr th {\n",
       "        vertical-align: top;\n",
       "    }\n",
       "\n",
       "    .dataframe thead th {\n",
       "        text-align: right;\n",
       "    }\n",
       "</style>\n",
       "<table border=\"1\" class=\"dataframe\">\n",
       "  <thead>\n",
       "    <tr style=\"text-align: right;\">\n",
       "      <th></th>\n",
       "      <th>ident</th>\n",
       "      <th>type</th>\n",
       "      <th>name</th>\n",
       "      <th>elevation_ft</th>\n",
       "      <th>continent</th>\n",
       "      <th>iso_country</th>\n",
       "      <th>iso_region</th>\n",
       "      <th>municipality</th>\n",
       "      <th>gps_code</th>\n",
       "      <th>iata_code</th>\n",
       "      <th>local_code</th>\n",
       "      <th>coordinates</th>\n",
       "    </tr>\n",
       "  </thead>\n",
       "  <tbody>\n",
       "    <tr>\n",
       "      <th>0</th>\n",
       "      <td>00A</td>\n",
       "      <td>heliport</td>\n",
       "      <td>Total Rf Heliport</td>\n",
       "      <td>11</td>\n",
       "      <td>NA</td>\n",
       "      <td>US</td>\n",
       "      <td>US-PA</td>\n",
       "      <td>Bensalem</td>\n",
       "      <td>00A</td>\n",
       "      <td>None</td>\n",
       "      <td>00A</td>\n",
       "      <td>-74.93360137939453, 40.07080078125</td>\n",
       "    </tr>\n",
       "    <tr>\n",
       "      <th>1</th>\n",
       "      <td>00AA</td>\n",
       "      <td>small_airport</td>\n",
       "      <td>Aero B Ranch Airport</td>\n",
       "      <td>3435</td>\n",
       "      <td>NA</td>\n",
       "      <td>US</td>\n",
       "      <td>US-KS</td>\n",
       "      <td>Leoti</td>\n",
       "      <td>00AA</td>\n",
       "      <td>None</td>\n",
       "      <td>00AA</td>\n",
       "      <td>-101.473911, 38.704022</td>\n",
       "    </tr>\n",
       "    <tr>\n",
       "      <th>2</th>\n",
       "      <td>00AK</td>\n",
       "      <td>small_airport</td>\n",
       "      <td>Lowell Field</td>\n",
       "      <td>450</td>\n",
       "      <td>NA</td>\n",
       "      <td>US</td>\n",
       "      <td>US-AK</td>\n",
       "      <td>Anchor Point</td>\n",
       "      <td>00AK</td>\n",
       "      <td>None</td>\n",
       "      <td>00AK</td>\n",
       "      <td>-151.695999146, 59.94919968</td>\n",
       "    </tr>\n",
       "    <tr>\n",
       "      <th>3</th>\n",
       "      <td>00AL</td>\n",
       "      <td>small_airport</td>\n",
       "      <td>Epps Airpark</td>\n",
       "      <td>820</td>\n",
       "      <td>NA</td>\n",
       "      <td>US</td>\n",
       "      <td>US-AL</td>\n",
       "      <td>Harvest</td>\n",
       "      <td>00AL</td>\n",
       "      <td>None</td>\n",
       "      <td>00AL</td>\n",
       "      <td>-86.77030181884766, 34.86479949951172</td>\n",
       "    </tr>\n",
       "    <tr>\n",
       "      <th>4</th>\n",
       "      <td>00AR</td>\n",
       "      <td>closed</td>\n",
       "      <td>Newport Hospital &amp; Clinic Heliport</td>\n",
       "      <td>237</td>\n",
       "      <td>NA</td>\n",
       "      <td>US</td>\n",
       "      <td>US-AR</td>\n",
       "      <td>Newport</td>\n",
       "      <td>None</td>\n",
       "      <td>None</td>\n",
       "      <td>None</td>\n",
       "      <td>-91.254898, 35.6087</td>\n",
       "    </tr>\n",
       "  </tbody>\n",
       "</table>\n",
       "</div>"
      ],
      "text/plain": [
       "  ident           type                                name elevation_ft  \\\n",
       "0   00A       heliport                   Total Rf Heliport           11   \n",
       "1  00AA  small_airport                Aero B Ranch Airport         3435   \n",
       "2  00AK  small_airport                        Lowell Field          450   \n",
       "3  00AL  small_airport                        Epps Airpark          820   \n",
       "4  00AR         closed  Newport Hospital & Clinic Heliport          237   \n",
       "\n",
       "  continent iso_country iso_region  municipality gps_code iata_code  \\\n",
       "0        NA          US      US-PA      Bensalem      00A      None   \n",
       "1        NA          US      US-KS         Leoti     00AA      None   \n",
       "2        NA          US      US-AK  Anchor Point     00AK      None   \n",
       "3        NA          US      US-AL       Harvest     00AL      None   \n",
       "4        NA          US      US-AR       Newport     None      None   \n",
       "\n",
       "  local_code                            coordinates  \n",
       "0        00A     -74.93360137939453, 40.07080078125  \n",
       "1       00AA                 -101.473911, 38.704022  \n",
       "2       00AK            -151.695999146, 59.94919968  \n",
       "3       00AL  -86.77030181884766, 34.86479949951172  \n",
       "4       None                    -91.254898, 35.6087  "
      ]
     },
     "execution_count": 4,
     "metadata": {},
     "output_type": "execute_result"
    }
   ],
   "source": [
    "# Load airport codes data \n",
    "airports_data_df = pySparkSession.read.csv(\"airport-codes_csv.csv\",header=True)\n",
    "airports_data_df.toPandas().head(5)\n"
   ]
  },
  {
   "cell_type": "code",
   "execution_count": 5,
   "metadata": {
    "editable": true
   },
   "outputs": [
    {
     "data": {
      "text/plain": [
       "DataFrame[summary: string, ident: string, type: string, name: string, elevation_ft: string, continent: string, iso_country: string, iso_region: string, municipality: string, gps_code: string, iata_code: string, local_code: string, coordinates: string]"
      ]
     },
     "execution_count": 5,
     "metadata": {},
     "output_type": "execute_result"
    }
   ],
   "source": [
    "airports_data_df.columns\n",
    "airports_data_df.describe()"
   ]
  },
  {
   "cell_type": "markdown",
   "metadata": {
    "editable": true
   },
   "source": [
    "## Load Immigration data"
   ]
  },
  {
   "cell_type": "code",
   "execution_count": 6,
   "metadata": {
    "editable": true
   },
   "outputs": [
    {
     "data": {
      "text/html": [
       "<div>\n",
       "<style scoped>\n",
       "    .dataframe tbody tr th:only-of-type {\n",
       "        vertical-align: middle;\n",
       "    }\n",
       "\n",
       "    .dataframe tbody tr th {\n",
       "        vertical-align: top;\n",
       "    }\n",
       "\n",
       "    .dataframe thead th {\n",
       "        text-align: right;\n",
       "    }\n",
       "</style>\n",
       "<table border=\"1\" class=\"dataframe\">\n",
       "  <thead>\n",
       "    <tr style=\"text-align: right;\">\n",
       "      <th></th>\n",
       "      <th>cicid</th>\n",
       "      <th>i94yr</th>\n",
       "      <th>i94mon</th>\n",
       "      <th>i94cit</th>\n",
       "      <th>i94res</th>\n",
       "      <th>i94port</th>\n",
       "      <th>arrdate</th>\n",
       "      <th>i94mode</th>\n",
       "      <th>i94addr</th>\n",
       "      <th>depdate</th>\n",
       "      <th>...</th>\n",
       "      <th>entdepu</th>\n",
       "      <th>matflag</th>\n",
       "      <th>biryear</th>\n",
       "      <th>dtaddto</th>\n",
       "      <th>gender</th>\n",
       "      <th>insnum</th>\n",
       "      <th>airline</th>\n",
       "      <th>admnum</th>\n",
       "      <th>fltno</th>\n",
       "      <th>visatype</th>\n",
       "    </tr>\n",
       "  </thead>\n",
       "  <tbody>\n",
       "    <tr>\n",
       "      <th>0</th>\n",
       "      <td>2.0</td>\n",
       "      <td>2016.0</td>\n",
       "      <td>5.0</td>\n",
       "      <td>207.0</td>\n",
       "      <td>207.0</td>\n",
       "      <td>XXX</td>\n",
       "      <td>20605.0</td>\n",
       "      <td>NaN</td>\n",
       "      <td>None</td>\n",
       "      <td>NaN</td>\n",
       "      <td>...</td>\n",
       "      <td>U</td>\n",
       "      <td>None</td>\n",
       "      <td>1989.0</td>\n",
       "      <td>D/S</td>\n",
       "      <td>None</td>\n",
       "      <td>None</td>\n",
       "      <td>None</td>\n",
       "      <td>1.141634e+09</td>\n",
       "      <td>None</td>\n",
       "      <td>F1</td>\n",
       "    </tr>\n",
       "    <tr>\n",
       "      <th>1</th>\n",
       "      <td>3.0</td>\n",
       "      <td>2016.0</td>\n",
       "      <td>5.0</td>\n",
       "      <td>209.0</td>\n",
       "      <td>209.0</td>\n",
       "      <td>XXX</td>\n",
       "      <td>20598.0</td>\n",
       "      <td>NaN</td>\n",
       "      <td>None</td>\n",
       "      <td>NaN</td>\n",
       "      <td>...</td>\n",
       "      <td>U</td>\n",
       "      <td>None</td>\n",
       "      <td>1989.0</td>\n",
       "      <td>05232018</td>\n",
       "      <td>None</td>\n",
       "      <td>None</td>\n",
       "      <td>None</td>\n",
       "      <td>1.863211e+09</td>\n",
       "      <td>None</td>\n",
       "      <td>E2</td>\n",
       "    </tr>\n",
       "    <tr>\n",
       "      <th>2</th>\n",
       "      <td>4.0</td>\n",
       "      <td>2016.0</td>\n",
       "      <td>5.0</td>\n",
       "      <td>213.0</td>\n",
       "      <td>213.0</td>\n",
       "      <td>XXX</td>\n",
       "      <td>20578.0</td>\n",
       "      <td>NaN</td>\n",
       "      <td>None</td>\n",
       "      <td>NaN</td>\n",
       "      <td>...</td>\n",
       "      <td>U</td>\n",
       "      <td>None</td>\n",
       "      <td>1938.0</td>\n",
       "      <td>11032016</td>\n",
       "      <td>None</td>\n",
       "      <td>None</td>\n",
       "      <td>None</td>\n",
       "      <td>4.696371e+09</td>\n",
       "      <td>None</td>\n",
       "      <td>B2</td>\n",
       "    </tr>\n",
       "    <tr>\n",
       "      <th>3</th>\n",
       "      <td>5.0</td>\n",
       "      <td>2016.0</td>\n",
       "      <td>5.0</td>\n",
       "      <td>213.0</td>\n",
       "      <td>213.0</td>\n",
       "      <td>XXX</td>\n",
       "      <td>20601.0</td>\n",
       "      <td>NaN</td>\n",
       "      <td>None</td>\n",
       "      <td>NaN</td>\n",
       "      <td>...</td>\n",
       "      <td>U</td>\n",
       "      <td>None</td>\n",
       "      <td>1987.0</td>\n",
       "      <td>D/S</td>\n",
       "      <td>None</td>\n",
       "      <td>None</td>\n",
       "      <td>None</td>\n",
       "      <td>1.141260e+09</td>\n",
       "      <td>None</td>\n",
       "      <td>F1</td>\n",
       "    </tr>\n",
       "    <tr>\n",
       "      <th>4</th>\n",
       "      <td>13.0</td>\n",
       "      <td>2016.0</td>\n",
       "      <td>5.0</td>\n",
       "      <td>213.0</td>\n",
       "      <td>213.0</td>\n",
       "      <td>CHI</td>\n",
       "      <td>20577.0</td>\n",
       "      <td>1.0</td>\n",
       "      <td>IL</td>\n",
       "      <td>20270.0</td>\n",
       "      <td>...</td>\n",
       "      <td>None</td>\n",
       "      <td>M</td>\n",
       "      <td>1987.0</td>\n",
       "      <td>D/S</td>\n",
       "      <td>F</td>\n",
       "      <td>None</td>\n",
       "      <td>EK</td>\n",
       "      <td>6.479287e+10</td>\n",
       "      <td>00235</td>\n",
       "      <td>F1</td>\n",
       "    </tr>\n",
       "  </tbody>\n",
       "</table>\n",
       "<p>5 rows × 28 columns</p>\n",
       "</div>"
      ],
      "text/plain": [
       "   cicid   i94yr  i94mon  i94cit  i94res i94port  arrdate  i94mode i94addr  \\\n",
       "0    2.0  2016.0     5.0   207.0   207.0     XXX  20605.0      NaN    None   \n",
       "1    3.0  2016.0     5.0   209.0   209.0     XXX  20598.0      NaN    None   \n",
       "2    4.0  2016.0     5.0   213.0   213.0     XXX  20578.0      NaN    None   \n",
       "3    5.0  2016.0     5.0   213.0   213.0     XXX  20601.0      NaN    None   \n",
       "4   13.0  2016.0     5.0   213.0   213.0     CHI  20577.0      1.0      IL   \n",
       "\n",
       "   depdate   ...     entdepu  matflag  biryear   dtaddto gender insnum  \\\n",
       "0      NaN   ...           U     None   1989.0       D/S   None   None   \n",
       "1      NaN   ...           U     None   1989.0  05232018   None   None   \n",
       "2      NaN   ...           U     None   1938.0  11032016   None   None   \n",
       "3      NaN   ...           U     None   1987.0       D/S   None   None   \n",
       "4  20270.0   ...        None        M   1987.0       D/S      F   None   \n",
       "\n",
       "  airline        admnum  fltno visatype  \n",
       "0    None  1.141634e+09   None       F1  \n",
       "1    None  1.863211e+09   None       E2  \n",
       "2    None  4.696371e+09   None       B2  \n",
       "3    None  1.141260e+09   None       F1  \n",
       "4      EK  6.479287e+10  00235       F1  \n",
       "\n",
       "[5 rows x 28 columns]"
      ]
     },
     "execution_count": 6,
     "metadata": {},
     "output_type": "execute_result"
    }
   ],
   "source": [
    "# Load immigration data through sas7bat files\n",
    "#  To avoid memory errors in this project we use only the i94_may16_sub.sas7bdat will be used for this project\n",
    "immi_i94_all_files = glob.glob(\"../../data/18-83510-I94-Data-2016/*.sas7bdat\")\n",
    "immi_i94_fname = \"../../data/18-83510-I94-Data-2016/i94_may16_sub.sas7bdat\"\n",
    "immi_i94_df = pySparkSession.read.format(\"com.github.saurfang.sas.spark\").load(immi_i94_fname)\n",
    "immi_i94_df.limit(5).toPandas()"
   ]
  },
  {
   "cell_type": "markdown",
   "metadata": {
    "editable": true
   },
   "source": [
    "## Us cities demographics\n",
    "Contains information about city demographics data"
   ]
  },
  {
   "cell_type": "code",
   "execution_count": 7,
   "metadata": {
    "editable": true
   },
   "outputs": [
    {
     "data": {
      "text/html": [
       "<div>\n",
       "<style scoped>\n",
       "    .dataframe tbody tr th:only-of-type {\n",
       "        vertical-align: middle;\n",
       "    }\n",
       "\n",
       "    .dataframe tbody tr th {\n",
       "        vertical-align: top;\n",
       "    }\n",
       "\n",
       "    .dataframe thead th {\n",
       "        text-align: right;\n",
       "    }\n",
       "</style>\n",
       "<table border=\"1\" class=\"dataframe\">\n",
       "  <thead>\n",
       "    <tr style=\"text-align: right;\">\n",
       "      <th></th>\n",
       "      <th>City</th>\n",
       "      <th>State</th>\n",
       "      <th>Median Age</th>\n",
       "      <th>Male Population</th>\n",
       "      <th>Female Population</th>\n",
       "      <th>Total Population</th>\n",
       "      <th>Number of Veterans</th>\n",
       "      <th>Foreign-born</th>\n",
       "      <th>Average Household Size</th>\n",
       "      <th>State Code</th>\n",
       "      <th>Race</th>\n",
       "      <th>Count</th>\n",
       "    </tr>\n",
       "  </thead>\n",
       "  <tbody>\n",
       "    <tr>\n",
       "      <th>0</th>\n",
       "      <td>Silver Spring</td>\n",
       "      <td>Maryland</td>\n",
       "      <td>33.8</td>\n",
       "      <td>40601.0</td>\n",
       "      <td>41862.0</td>\n",
       "      <td>82463</td>\n",
       "      <td>1562.0</td>\n",
       "      <td>30908.0</td>\n",
       "      <td>2.60</td>\n",
       "      <td>MD</td>\n",
       "      <td>Hispanic or Latino</td>\n",
       "      <td>25924</td>\n",
       "    </tr>\n",
       "    <tr>\n",
       "      <th>1</th>\n",
       "      <td>Quincy</td>\n",
       "      <td>Massachusetts</td>\n",
       "      <td>41.0</td>\n",
       "      <td>44129.0</td>\n",
       "      <td>49500.0</td>\n",
       "      <td>93629</td>\n",
       "      <td>4147.0</td>\n",
       "      <td>32935.0</td>\n",
       "      <td>2.39</td>\n",
       "      <td>MA</td>\n",
       "      <td>White</td>\n",
       "      <td>58723</td>\n",
       "    </tr>\n",
       "    <tr>\n",
       "      <th>2</th>\n",
       "      <td>Hoover</td>\n",
       "      <td>Alabama</td>\n",
       "      <td>38.5</td>\n",
       "      <td>38040.0</td>\n",
       "      <td>46799.0</td>\n",
       "      <td>84839</td>\n",
       "      <td>4819.0</td>\n",
       "      <td>8229.0</td>\n",
       "      <td>2.58</td>\n",
       "      <td>AL</td>\n",
       "      <td>Asian</td>\n",
       "      <td>4759</td>\n",
       "    </tr>\n",
       "    <tr>\n",
       "      <th>3</th>\n",
       "      <td>Rancho Cucamonga</td>\n",
       "      <td>California</td>\n",
       "      <td>34.5</td>\n",
       "      <td>88127.0</td>\n",
       "      <td>87105.0</td>\n",
       "      <td>175232</td>\n",
       "      <td>5821.0</td>\n",
       "      <td>33878.0</td>\n",
       "      <td>3.18</td>\n",
       "      <td>CA</td>\n",
       "      <td>Black or African-American</td>\n",
       "      <td>24437</td>\n",
       "    </tr>\n",
       "    <tr>\n",
       "      <th>4</th>\n",
       "      <td>Newark</td>\n",
       "      <td>New Jersey</td>\n",
       "      <td>34.6</td>\n",
       "      <td>138040.0</td>\n",
       "      <td>143873.0</td>\n",
       "      <td>281913</td>\n",
       "      <td>5829.0</td>\n",
       "      <td>86253.0</td>\n",
       "      <td>2.73</td>\n",
       "      <td>NJ</td>\n",
       "      <td>White</td>\n",
       "      <td>76402</td>\n",
       "    </tr>\n",
       "  </tbody>\n",
       "</table>\n",
       "</div>"
      ],
      "text/plain": [
       "               City          State  Median Age  Male Population  \\\n",
       "0     Silver Spring       Maryland        33.8          40601.0   \n",
       "1            Quincy  Massachusetts        41.0          44129.0   \n",
       "2            Hoover        Alabama        38.5          38040.0   \n",
       "3  Rancho Cucamonga     California        34.5          88127.0   \n",
       "4            Newark     New Jersey        34.6         138040.0   \n",
       "\n",
       "   Female Population  Total Population  Number of Veterans  Foreign-born  \\\n",
       "0            41862.0             82463              1562.0       30908.0   \n",
       "1            49500.0             93629              4147.0       32935.0   \n",
       "2            46799.0             84839              4819.0        8229.0   \n",
       "3            87105.0            175232              5821.0       33878.0   \n",
       "4           143873.0            281913              5829.0       86253.0   \n",
       "\n",
       "   Average Household Size State Code                       Race  Count  \n",
       "0                    2.60         MD         Hispanic or Latino  25924  \n",
       "1                    2.39         MA                      White  58723  \n",
       "2                    2.58         AL                      Asian   4759  \n",
       "3                    3.18         CA  Black or African-American  24437  \n",
       "4                    2.73         NJ                      White  76402  "
      ]
     },
     "execution_count": 7,
     "metadata": {},
     "output_type": "execute_result"
    }
   ],
   "source": [
    "demog_df = pySparkSession.read.csv(\"us-cities-demographics.csv\",inferSchema=True, header=True, sep=';')\n",
    "demog_df.toPandas().head()"
   ]
  },
  {
   "cell_type": "code",
   "execution_count": 8,
   "metadata": {
    "editable": true
   },
   "outputs": [
    {
     "data": {
      "text/plain": [
       "DataFrame[summary: string, City: string, State: string, Median Age: string, Male Population: string, Female Population: string, Total Population: string, Number of Veterans: string, Foreign-born: string, Average Household Size: string, State Code: string, Race: string, Count: string]"
      ]
     },
     "execution_count": 8,
     "metadata": {},
     "output_type": "execute_result"
    }
   ],
   "source": [
    "demog_df.describe()"
   ]
  },
  {
   "cell_type": "code",
   "execution_count": 9,
   "metadata": {
    "editable": true
   },
   "outputs": [
    {
     "data": {
      "text/plain": [
       "['City',\n",
       " 'State',\n",
       " 'Median Age',\n",
       " 'Male Population',\n",
       " 'Female Population',\n",
       " 'Total Population',\n",
       " 'Number of Veterans',\n",
       " 'Foreign-born',\n",
       " 'Average Household Size',\n",
       " 'State Code',\n",
       " 'Race',\n",
       " 'Count']"
      ]
     },
     "execution_count": 9,
     "metadata": {},
     "output_type": "execute_result"
    }
   ],
   "source": [
    "demog_df.columns"
   ]
  },
  {
   "cell_type": "code",
   "execution_count": 10,
   "metadata": {
    "editable": true
   },
   "outputs": [
    {
     "data": {
      "text/html": [
       "<div>\n",
       "<style scoped>\n",
       "    .dataframe tbody tr th:only-of-type {\n",
       "        vertical-align: middle;\n",
       "    }\n",
       "\n",
       "    .dataframe tbody tr th {\n",
       "        vertical-align: top;\n",
       "    }\n",
       "\n",
       "    .dataframe thead th {\n",
       "        text-align: right;\n",
       "    }\n",
       "</style>\n",
       "<table border=\"1\" class=\"dataframe\">\n",
       "  <thead>\n",
       "    <tr style=\"text-align: right;\">\n",
       "      <th></th>\n",
       "      <th>dt</th>\n",
       "      <th>AverageTemperature</th>\n",
       "      <th>AverageTemperatureUncertainty</th>\n",
       "      <th>City</th>\n",
       "      <th>Country</th>\n",
       "      <th>Latitude</th>\n",
       "      <th>Longitude</th>\n",
       "    </tr>\n",
       "  </thead>\n",
       "  <tbody>\n",
       "    <tr>\n",
       "      <th>0</th>\n",
       "      <td>1743-11-01</td>\n",
       "      <td>6.068</td>\n",
       "      <td>1.737</td>\n",
       "      <td>Århus</td>\n",
       "      <td>Denmark</td>\n",
       "      <td>57.05N</td>\n",
       "      <td>10.33E</td>\n",
       "    </tr>\n",
       "    <tr>\n",
       "      <th>1</th>\n",
       "      <td>1743-12-01</td>\n",
       "      <td>NaN</td>\n",
       "      <td>NaN</td>\n",
       "      <td>Århus</td>\n",
       "      <td>Denmark</td>\n",
       "      <td>57.05N</td>\n",
       "      <td>10.33E</td>\n",
       "    </tr>\n",
       "    <tr>\n",
       "      <th>2</th>\n",
       "      <td>1744-01-01</td>\n",
       "      <td>NaN</td>\n",
       "      <td>NaN</td>\n",
       "      <td>Århus</td>\n",
       "      <td>Denmark</td>\n",
       "      <td>57.05N</td>\n",
       "      <td>10.33E</td>\n",
       "    </tr>\n",
       "    <tr>\n",
       "      <th>3</th>\n",
       "      <td>1744-02-01</td>\n",
       "      <td>NaN</td>\n",
       "      <td>NaN</td>\n",
       "      <td>Århus</td>\n",
       "      <td>Denmark</td>\n",
       "      <td>57.05N</td>\n",
       "      <td>10.33E</td>\n",
       "    </tr>\n",
       "    <tr>\n",
       "      <th>4</th>\n",
       "      <td>1744-03-01</td>\n",
       "      <td>NaN</td>\n",
       "      <td>NaN</td>\n",
       "      <td>Århus</td>\n",
       "      <td>Denmark</td>\n",
       "      <td>57.05N</td>\n",
       "      <td>10.33E</td>\n",
       "    </tr>\n",
       "  </tbody>\n",
       "</table>\n",
       "</div>"
      ],
      "text/plain": [
       "          dt  AverageTemperature  AverageTemperatureUncertainty   City  \\\n",
       "0 1743-11-01               6.068                          1.737  Århus   \n",
       "1 1743-12-01                 NaN                            NaN  Århus   \n",
       "2 1744-01-01                 NaN                            NaN  Århus   \n",
       "3 1744-02-01                 NaN                            NaN  Århus   \n",
       "4 1744-03-01                 NaN                            NaN  Århus   \n",
       "\n",
       "   Country Latitude Longitude  \n",
       "0  Denmark   57.05N    10.33E  \n",
       "1  Denmark   57.05N    10.33E  \n",
       "2  Denmark   57.05N    10.33E  \n",
       "3  Denmark   57.05N    10.33E  \n",
       "4  Denmark   57.05N    10.33E  "
      ]
     },
     "execution_count": 10,
     "metadata": {},
     "output_type": "execute_result"
    }
   ],
   "source": [
    "### Load global temperature\n",
    "path = '../../data2/GlobalLandTemperaturesByCity.csv'\n",
    "temperature_df = pySparkSession.read.csv(path,inferSchema=True, header=True)\n",
    "temperature_df.limit(10).toPandas().head(5)"
   ]
  },
  {
   "cell_type": "markdown",
   "metadata": {
    "editable": true
   },
   "source": [
    "### Step 2: Explore and Assess the Data\n",
    "#### Explore the Data \n",
    "Identify data quality issues, like missing values, duplicate data, etc.\n",
    "\n"
   ]
  },
  {
   "cell_type": "markdown",
   "metadata": {
    "editable": true
   },
   "source": [
    "### Duplicate/Empty columns data clean up for immigration,temperature and demographics data\n"
   ]
  },
  {
   "cell_type": "code",
   "execution_count": 11,
   "metadata": {
    "editable": true
   },
   "outputs": [
    {
     "name": "stdout",
     "output_type": "stream",
     "text": [
      "Missing data is dropped..\n",
      "+-----+------+------+------+------+-------+-------+-------+-------+-------+------+-------+-----+--------+--------+-----+-------+-------+-------+-------+-------+--------+------+------+-------+---------------+-----+--------+\n",
      "|cicid|i94yr |i94mon|i94cit|i94res|i94port|arrdate|i94mode|i94addr|depdate|i94bir|i94visa|count|dtadfile|visapost|occup|entdepa|entdepd|entdepu|matflag|biryear|dtaddto |gender|insnum|airline|admnum         |fltno|visatype|\n",
      "+-----+------+------+------+------+-------+-------+-------+-------+-------+------+-------+-----+--------+--------+-----+-------+-------+-------+-------+-------+--------+------+------+-------+---------------+-----+--------+\n",
      "|13.0 |2016.0|5.0   |213.0 |213.0 |CHI    |20577.0|1.0    |IL     |20270.0|29.0  |3.0    |1.0  |20150619|null    |null |T      |O      |null   |M      |1987.0 |D/S     |F     |null  |EK     |6.479287483E10 |00235|F1      |\n",
      "|22.0 |2016.0|5.0   |101.0 |101.0 |BOS    |20575.0|1.0    |NY     |20587.0|53.0  |2.0    |1.0  |20160501|null    |null |T      |O      |null   |M      |1963.0 |10312016|F     |null  |BA     |9.11023885E8   |215  |B2      |\n",
      "|28.0 |2016.0|5.0   |101.0 |101.0 |MIA    |20575.0|1.0    |FL     |20596.0|32.0  |2.0    |1.0  |20160501|null    |null |T      |O      |null   |M      |1984.0 |10312016|F     |null  |AZ     |9.09366485E8   |630  |B2      |\n",
      "|29.0 |2016.0|5.0   |101.0 |101.0 |WAS    |20575.0|1.0    |NY     |20589.0|28.0  |2.0    |1.0  |20160501|BRS     |null |G      |O      |null   |M      |1988.0 |10312016|F     |null  |UA     |9.507705363E10 |00951|B2      |\n",
      "|34.0 |2016.0|5.0   |101.0 |101.0 |BOS    |20575.0|1.0    |MA     |20583.0|59.0  |2.0    |1.0  |20160501|TIA     |null |G      |O      |null   |M      |1957.0 |10312016|M     |null  |AZ     |9.510887843E10 |00614|B2      |\n",
      "|37.0 |2016.0|5.0   |101.0 |101.0 |WAS    |20575.0|1.0    |MD     |20594.0|51.0  |2.0    |1.0  |20160501|TIA     |null |G      |O      |null   |M      |1965.0 |10312016|F     |null  |UA     |9.511544273E10 |00933|B2      |\n",
      "|38.0 |2016.0|5.0   |101.0 |101.0 |WAS    |20575.0|1.0    |VA     |20630.0|35.0  |2.0    |1.0  |20160501|TIA     |null |G      |O      |null   |M      |1981.0 |10312016|F     |null  |UA     |9.511538213E10 |00933|B2      |\n",
      "|43.0 |2016.0|5.0   |101.0 |101.0 |LOS    |20575.0|1.0    |CA     |20580.0|61.0  |2.0    |1.0  |20160501|TIA     |null |G      |O      |null   |M      |1955.0 |10312016|M     |null  |BA     |9.509379743E10 |00283|B2      |\n",
      "|44.0 |2016.0|5.0   |101.0 |101.0 |CHI    |20575.0|1.0    |NV     |20610.0|61.0  |2.0    |1.0  |20160501|TIA     |null |G      |O      |null   |M      |1955.0 |10312016|F     |null  |OS     |9.508300193E10 |00065|B2      |\n",
      "|45.0 |2016.0|5.0   |101.0 |101.0 |CHI    |20575.0|1.0    |TX     |20611.0|33.0  |2.0    |1.0  |20160501|TIA     |null |G      |O      |null   |M      |1983.0 |10312016|M     |null  |OS     |9.508341803E10 |00065|B2      |\n",
      "|47.0 |2016.0|5.0   |101.0 |101.0 |TAM    |20575.0|1.0    |FL     |20583.0|44.0  |2.0    |1.0  |20160501|TIA     |null |G      |O      |null   |M      |1972.0 |10312016|M     |null  |BA     |9.509465363E10 |02167|B2      |\n",
      "|48.0 |2016.0|5.0   |101.0 |101.0 |TAM    |20575.0|1.0    |FL     |20583.0|39.0  |2.0    |1.0  |20160501|TIA     |null |G      |O      |null   |M      |1977.0 |10312016|F     |null  |BA     |9.509473243E10 |02167|B2      |\n",
      "|50.0 |2016.0|5.0   |101.0 |101.0 |CHI    |20575.0|1.0    |TX     |20578.0|36.0  |2.0    |1.0  |20160501|TRT     |null |G      |N      |null   |M      |1980.0 |10312016|M     |null  |MQ     |9.504986343E10 |03137|B2      |\n",
      "|53.0 |2016.0|5.0   |102.0 |102.0 |DEN    |20575.0|1.0    |CO     |20579.0|46.0  |2.0    |1.0  |20160501|null    |null |G      |O      |null   |M      |1970.0 |07292016|F     |null  |BA     |5.9630465733E10|00219|WT      |\n",
      "|54.0 |2016.0|5.0   |102.0 |102.0 |NEW    |20575.0|1.0    |WA     |20584.0|46.0  |2.0    |1.0  |20160501|null    |null |G      |O      |null   |M      |1970.0 |07292016|M     |null  |UA     |5.9578785933E10|00148|WT      |\n",
      "|56.0 |2016.0|5.0   |103.0 |103.0 |ATL    |20575.0|1.0    |GA     |20577.0|53.0  |1.0    |1.0  |20160501|null    |null |G      |O      |null   |M      |1963.0 |07292016|M     |null  |KL     |5.9634194733E10|00621|WB      |\n",
      "|61.0 |2016.0|5.0   |103.0 |103.0 |ATL    |20575.0|1.0    |NV     |20591.0|25.0  |2.0    |1.0  |20160501|null    |null |G      |O      |null   |M      |1991.0 |07292016|M     |null  |DL     |5.9616966933E10|00131|WT      |\n",
      "|62.0 |2016.0|5.0   |103.0 |103.0 |ATL    |20575.0|1.0    |NV     |20591.0|23.0  |2.0    |1.0  |20160501|null    |null |G      |O      |null   |M      |1993.0 |07292016|M     |null  |DL     |5.9616277533E10|00131|WT      |\n",
      "|63.0 |2016.0|5.0   |103.0 |103.0 |AUS    |20575.0|1.0    |TX     |20583.0|27.0  |1.0    |1.0  |20160501|null    |null |G      |O      |null   |M      |1989.0 |07292016|M     |null  |BA     |5.9622616233E10|00191|WB      |\n",
      "|64.0 |2016.0|5.0   |103.0 |103.0 |BOS    |20575.0|1.0    |CA     |20579.0|54.0  |1.0    |1.0  |20160501|null    |null |G      |O      |null   |M      |1962.0 |07292016|F     |null  |LH     |5.9630558233E10|00420|WB      |\n",
      "+-----+------+------+------+------+-------+-------+-------+-------+-------+------+-------+-----+--------+--------+-----+-------+-------+-------+-------+-------+--------+------+------+-------+---------------+-----+--------+\n",
      "only showing top 20 rows\n",
      "\n"
     ]
    }
   ],
   "source": [
    "immi_i94_df_cleanup = Cleaned.drop_empty_columns(immi_i94_df,[\"arrdate\",\"i94addr\",\"visatype\",\"biryear\",\"gender\",\"depdate\"])\n",
    "immi_i94_df_cleanup = Cleaned.drop_duplicate_rows(immi_i94_df_cleanup)"
   ]
  },
  {
   "cell_type": "code",
   "execution_count": 12,
   "metadata": {
    "editable": true
   },
   "outputs": [
    {
     "name": "stdout",
     "output_type": "stream",
     "text": [
      "Missing data is dropped..\n",
      "+----------------+--------------+----------+---------------+-----------------+----------------+------------------+------------+----------------------+----------+---------------------------------+------+\n",
      "|City            |State         |Median Age|Male Population|Female Population|Total Population|Number of Veterans|Foreign-born|Average Household Size|State Code|Race                             |Count |\n",
      "+----------------+--------------+----------+---------------+-----------------+----------------+------------------+------------+----------------------+----------+---------------------------------+------+\n",
      "|Silver Spring   |Maryland      |33.8      |40601          |41862            |82463           |1562              |30908       |2.6                   |MD        |Hispanic or Latino               |25924 |\n",
      "|Quincy          |Massachusetts |41.0      |44129          |49500            |93629           |4147              |32935       |2.39                  |MA        |White                            |58723 |\n",
      "|Hoover          |Alabama       |38.5      |38040          |46799            |84839           |4819              |8229        |2.58                  |AL        |Asian                            |4759  |\n",
      "|Rancho Cucamonga|California    |34.5      |88127          |87105            |175232          |5821              |33878       |3.18                  |CA        |Black or African-American        |24437 |\n",
      "|Newark          |New Jersey    |34.6      |138040         |143873           |281913          |5829              |86253       |2.73                  |NJ        |White                            |76402 |\n",
      "|Peoria          |Illinois      |33.1      |56229          |62432            |118661          |6634              |7517        |2.4                   |IL        |American Indian and Alaska Native|1343  |\n",
      "|Avondale        |Arizona       |29.1      |38712          |41971            |80683           |4815              |8355        |3.18                  |AZ        |Black or African-American        |11592 |\n",
      "|West Covina     |California    |39.8      |51629          |56860            |108489          |3800              |37038       |3.56                  |CA        |Asian                            |32716 |\n",
      "|O'Fallon        |Missouri      |36.0      |41762          |43270            |85032           |5783              |3269        |2.77                  |MO        |Hispanic or Latino               |2583  |\n",
      "|High Point      |North Carolina|35.5      |51751          |58077            |109828          |5204              |16315       |2.65                  |NC        |Asian                            |11060 |\n",
      "|Folsom          |California    |40.9      |41051          |35317            |76368           |4187              |13234       |2.62                  |CA        |Hispanic or Latino               |5822  |\n",
      "|Folsom          |California    |40.9      |41051          |35317            |76368           |4187              |13234       |2.62                  |CA        |American Indian and Alaska Native|998   |\n",
      "|Philadelphia    |Pennsylvania  |34.1      |741270         |826172           |1567442         |61995             |205339      |2.61                  |PA        |Asian                            |122721|\n",
      "|Wichita         |Kansas        |34.6      |192354         |197601           |389955          |23978             |40270       |2.56                  |KS        |Hispanic or Latino               |65162 |\n",
      "|Wichita         |Kansas        |34.6      |192354         |197601           |389955          |23978             |40270       |2.56                  |KS        |American Indian and Alaska Native|8791  |\n",
      "|Fort Myers      |Florida       |37.3      |36850          |37165            |74015           |4312              |15365       |2.45                  |FL        |White                            |50169 |\n",
      "|Pittsburgh      |Pennsylvania  |32.9      |149690         |154695           |304385          |17728             |28187       |2.13                  |PA        |White                            |208863|\n",
      "|Laredo          |Texas         |28.8      |124305         |131484           |255789          |4921              |68427       |3.66                  |TX        |American Indian and Alaska Native|1253  |\n",
      "|Berkeley        |California    |32.5      |60142          |60829            |120971          |3736              |25000       |2.35                  |CA        |Asian                            |27089 |\n",
      "|Santa Clara     |California    |35.2      |63278          |62938            |126216          |4426              |52281       |2.75                  |CA        |White                            |55847 |\n",
      "+----------------+--------------+----------+---------------+-----------------+----------------+------------------+------------+----------------------+----------+---------------------------------+------+\n",
      "only showing top 20 rows\n",
      "\n"
     ]
    }
   ],
   "source": [
    "demog_df_cleanup = Cleaned.drop_empty_columns(demog_df,[\"city\",\"state\"])\n",
    "demog_df_cleanup = Cleaned.drop_duplicate_rows(demog_df_cleanup)"
   ]
  },
  {
   "cell_type": "code",
   "execution_count": 13,
   "metadata": {
    "editable": true
   },
   "outputs": [
    {
     "name": "stdout",
     "output_type": "stream",
     "text": [
      "Missing data is dropped..\n",
      "+-------------------+-------------------+-----------------------------+-----+-------+--------+---------+\n",
      "|dt                 |AverageTemperature |AverageTemperatureUncertainty|City |Country|Latitude|Longitude|\n",
      "+-------------------+-------------------+-----------------------------+-----+-------+--------+---------+\n",
      "|1743-11-01 00:00:00|6.068              |1.7369999999999999           |Århus|Denmark|57.05N  |10.33E   |\n",
      "|1744-04-01 00:00:00|5.7879999999999985 |3.6239999999999997           |Århus|Denmark|57.05N  |10.33E   |\n",
      "|1744-05-01 00:00:00|10.644             |1.2830000000000001           |Århus|Denmark|57.05N  |10.33E   |\n",
      "|1744-06-01 00:00:00|14.050999999999998 |1.347                        |Århus|Denmark|57.05N  |10.33E   |\n",
      "|1744-07-01 00:00:00|16.082             |1.396                        |Århus|Denmark|57.05N  |10.33E   |\n",
      "|1744-09-01 00:00:00|12.780999999999999 |1.454                        |Århus|Denmark|57.05N  |10.33E   |\n",
      "|1744-10-01 00:00:00|7.95               |1.63                         |Århus|Denmark|57.05N  |10.33E   |\n",
      "|1744-11-01 00:00:00|4.638999999999999  |1.3019999999999998           |Århus|Denmark|57.05N  |10.33E   |\n",
      "|1744-12-01 00:00:00|0.12199999999999987|1.756                        |Århus|Denmark|57.05N  |10.33E   |\n",
      "|1745-01-01 00:00:00|-1.3330000000000002|1.642                        |Århus|Denmark|57.05N  |10.33E   |\n",
      "|1745-02-01 00:00:00|-2.732             |1.358                        |Århus|Denmark|57.05N  |10.33E   |\n",
      "|1745-03-01 00:00:00|0.129              |1.088                        |Århus|Denmark|57.05N  |10.33E   |\n",
      "|1745-04-01 00:00:00|4.042              |1.138                        |Århus|Denmark|57.05N  |10.33E   |\n",
      "|1750-01-01 00:00:00|1.699              |1.013                        |Århus|Denmark|57.05N  |10.33E   |\n",
      "|1750-02-01 00:00:00|3.9610000000000003 |2.3609999999999998           |Århus|Denmark|57.05N  |10.33E   |\n",
      "|1750-03-01 00:00:00|5.182              |3.48                         |Århus|Denmark|57.05N  |10.33E   |\n",
      "|1750-04-01 00:00:00|7.197              |0.732                        |Århus|Denmark|57.05N  |10.33E   |\n",
      "|1750-05-01 00:00:00|10.634             |1.351                        |Århus|Denmark|57.05N  |10.33E   |\n",
      "|1750-06-01 00:00:00|14.913             |1.181                        |Århus|Denmark|57.05N  |10.33E   |\n",
      "|1750-07-01 00:00:00|17.831             |1.22                         |Århus|Denmark|57.05N  |10.33E   |\n",
      "+-------------------+-------------------+-----------------------------+-----+-------+--------+---------+\n",
      "only showing top 20 rows\n",
      "\n"
     ]
    }
   ],
   "source": [
    "temperature_df_cleanup = Cleaned.drop_empty_columns(temperature_df,[\"dt\",\"AverageTemperature\"])\n",
    "temperature_df_cleanup = Cleaned.drop_duplicate_rows(temperature_df_cleanup)"
   ]
  },
  {
   "cell_type": "code",
   "execution_count": 14,
   "metadata": {
    "editable": true
   },
   "outputs": [
    {
     "data": {
      "text/plain": [
       "DataFrame[summary: string, City: string, State: string, Median Age: string, Male Population: string, Female Population: string, Total Population: string, Number of Veterans: string, Foreign-born: string, Average Household Size: string, State Code: string, Race: string, Count: string]"
      ]
     },
     "execution_count": 14,
     "metadata": {},
     "output_type": "execute_result"
    }
   ],
   "source": [
    "demog_df_cleanup.describe()"
   ]
  },
  {
   "cell_type": "code",
   "execution_count": 15,
   "metadata": {
    "editable": true
   },
   "outputs": [
    {
     "data": {
      "text/html": [
       "<div>\n",
       "<style scoped>\n",
       "    .dataframe tbody tr th:only-of-type {\n",
       "        vertical-align: middle;\n",
       "    }\n",
       "\n",
       "    .dataframe tbody tr th {\n",
       "        vertical-align: top;\n",
       "    }\n",
       "\n",
       "    .dataframe thead th {\n",
       "        text-align: right;\n",
       "    }\n",
       "</style>\n",
       "<table border=\"1\" class=\"dataframe\">\n",
       "  <thead>\n",
       "    <tr style=\"text-align: right;\">\n",
       "      <th></th>\n",
       "      <th>City</th>\n",
       "      <th>State</th>\n",
       "      <th>Median Age</th>\n",
       "      <th>Male Population</th>\n",
       "      <th>Female Population</th>\n",
       "      <th>Total Population</th>\n",
       "      <th>Number of Veterans</th>\n",
       "      <th>Foreign-born</th>\n",
       "      <th>Average Household Size</th>\n",
       "      <th>State Code</th>\n",
       "      <th>Race</th>\n",
       "      <th>Count</th>\n",
       "    </tr>\n",
       "  </thead>\n",
       "  <tbody>\n",
       "    <tr>\n",
       "      <th>0</th>\n",
       "      <td>Maple Grove</td>\n",
       "      <td>Minnesota</td>\n",
       "      <td>38.6</td>\n",
       "      <td>31780</td>\n",
       "      <td>36601</td>\n",
       "      <td>68381</td>\n",
       "      <td>2943</td>\n",
       "      <td>7645</td>\n",
       "      <td>2.64</td>\n",
       "      <td>MN</td>\n",
       "      <td>White</td>\n",
       "      <td>59683</td>\n",
       "    </tr>\n",
       "    <tr>\n",
       "      <th>1</th>\n",
       "      <td>Concord</td>\n",
       "      <td>California</td>\n",
       "      <td>39.6</td>\n",
       "      <td>62310</td>\n",
       "      <td>66358</td>\n",
       "      <td>128668</td>\n",
       "      <td>6287</td>\n",
       "      <td>37428</td>\n",
       "      <td>2.72</td>\n",
       "      <td>CA</td>\n",
       "      <td>White</td>\n",
       "      <td>92575</td>\n",
       "    </tr>\n",
       "    <tr>\n",
       "      <th>2</th>\n",
       "      <td>Highlands Ranch</td>\n",
       "      <td>Colorado</td>\n",
       "      <td>39.6</td>\n",
       "      <td>49186</td>\n",
       "      <td>53281</td>\n",
       "      <td>102467</td>\n",
       "      <td>4840</td>\n",
       "      <td>8827</td>\n",
       "      <td>2.72</td>\n",
       "      <td>CO</td>\n",
       "      <td>Asian</td>\n",
       "      <td>5650</td>\n",
       "    </tr>\n",
       "    <tr>\n",
       "      <th>3</th>\n",
       "      <td>Asheville</td>\n",
       "      <td>North Carolina</td>\n",
       "      <td>37.9</td>\n",
       "      <td>42100</td>\n",
       "      <td>46407</td>\n",
       "      <td>88507</td>\n",
       "      <td>4973</td>\n",
       "      <td>6630</td>\n",
       "      <td>2.18</td>\n",
       "      <td>NC</td>\n",
       "      <td>American Indian and Alaska Native</td>\n",
       "      <td>496</td>\n",
       "    </tr>\n",
       "    <tr>\n",
       "      <th>4</th>\n",
       "      <td>Westland</td>\n",
       "      <td>Michigan</td>\n",
       "      <td>39.9</td>\n",
       "      <td>37742</td>\n",
       "      <td>44253</td>\n",
       "      <td>81995</td>\n",
       "      <td>4756</td>\n",
       "      <td>6429</td>\n",
       "      <td>2.41</td>\n",
       "      <td>MI</td>\n",
       "      <td>Black or African-American</td>\n",
       "      <td>16422</td>\n",
       "    </tr>\n",
       "  </tbody>\n",
       "</table>\n",
       "</div>"
      ],
      "text/plain": [
       "              City           State  Median Age  Male Population  \\\n",
       "0      Maple Grove       Minnesota        38.6            31780   \n",
       "1          Concord      California        39.6            62310   \n",
       "2  Highlands Ranch        Colorado        39.6            49186   \n",
       "3        Asheville  North Carolina        37.9            42100   \n",
       "4         Westland        Michigan        39.9            37742   \n",
       "\n",
       "   Female Population  Total Population  Number of Veterans  Foreign-born  \\\n",
       "0              36601             68381                2943          7645   \n",
       "1              66358            128668                6287         37428   \n",
       "2              53281            102467                4840          8827   \n",
       "3              46407             88507                4973          6630   \n",
       "4              44253             81995                4756          6429   \n",
       "\n",
       "   Average Household Size State Code                               Race  Count  \n",
       "0                    2.64         MN                              White  59683  \n",
       "1                    2.72         CA                              White  92575  \n",
       "2                    2.72         CO                              Asian   5650  \n",
       "3                    2.18         NC  American Indian and Alaska Native    496  \n",
       "4                    2.41         MI          Black or African-American  16422  "
      ]
     },
     "execution_count": 15,
     "metadata": {},
     "output_type": "execute_result"
    }
   ],
   "source": [
    "demog_df_cleanup.limit(5).toPandas().head(5)"
   ]
  },
  {
   "cell_type": "code",
   "execution_count": 16,
   "metadata": {
    "editable": true
   },
   "outputs": [
    {
     "data": {
      "text/plain": [
       "2891"
      ]
     },
     "execution_count": 16,
     "metadata": {},
     "output_type": "execute_result"
    }
   ],
   "source": [
    "demog_df_cleanup.count()"
   ]
  },
  {
   "cell_type": "markdown",
   "metadata": {
    "editable": true
   },
   "source": [
    "### Temperature"
   ]
  },
  {
   "cell_type": "code",
   "execution_count": 17,
   "metadata": {
    "editable": true
   },
   "outputs": [
    {
     "data": {
      "text/html": [
       "<div>\n",
       "<style scoped>\n",
       "    .dataframe tbody tr th:only-of-type {\n",
       "        vertical-align: middle;\n",
       "    }\n",
       "\n",
       "    .dataframe tbody tr th {\n",
       "        vertical-align: top;\n",
       "    }\n",
       "\n",
       "    .dataframe thead th {\n",
       "        text-align: right;\n",
       "    }\n",
       "</style>\n",
       "<table border=\"1\" class=\"dataframe\">\n",
       "  <thead>\n",
       "    <tr style=\"text-align: right;\">\n",
       "      <th></th>\n",
       "      <th>dt</th>\n",
       "      <th>AverageTemperature</th>\n",
       "      <th>AverageTemperatureUncertainty</th>\n",
       "      <th>City</th>\n",
       "      <th>Country</th>\n",
       "      <th>Latitude</th>\n",
       "      <th>Longitude</th>\n",
       "    </tr>\n",
       "  </thead>\n",
       "  <tbody>\n",
       "    <tr>\n",
       "      <th>0</th>\n",
       "      <td>1850-04-01</td>\n",
       "      <td>NaN</td>\n",
       "      <td>NaN</td>\n",
       "      <td>Bontang</td>\n",
       "      <td>Indonesia</td>\n",
       "      <td>0.80N</td>\n",
       "      <td>118.13E</td>\n",
       "    </tr>\n",
       "    <tr>\n",
       "      <th>1</th>\n",
       "      <td>1859-05-01</td>\n",
       "      <td>NaN</td>\n",
       "      <td>NaN</td>\n",
       "      <td>Bontang</td>\n",
       "      <td>Indonesia</td>\n",
       "      <td>0.80N</td>\n",
       "      <td>118.13E</td>\n",
       "    </tr>\n",
       "    <tr>\n",
       "      <th>2</th>\n",
       "      <td>1862-09-01</td>\n",
       "      <td>NaN</td>\n",
       "      <td>NaN</td>\n",
       "      <td>Bontang</td>\n",
       "      <td>Indonesia</td>\n",
       "      <td>0.80N</td>\n",
       "      <td>118.13E</td>\n",
       "    </tr>\n",
       "    <tr>\n",
       "      <th>3</th>\n",
       "      <td>1863-09-01</td>\n",
       "      <td>NaN</td>\n",
       "      <td>NaN</td>\n",
       "      <td>Butembo</td>\n",
       "      <td>Congo (Democratic Republic Of The)</td>\n",
       "      <td>0.80N</td>\n",
       "      <td>29.73E</td>\n",
       "    </tr>\n",
       "    <tr>\n",
       "      <th>4</th>\n",
       "      <td>1864-07-01</td>\n",
       "      <td>20.314</td>\n",
       "      <td>1.248</td>\n",
       "      <td>Butembo</td>\n",
       "      <td>Congo (Democratic Republic Of The)</td>\n",
       "      <td>0.80N</td>\n",
       "      <td>29.73E</td>\n",
       "    </tr>\n",
       "  </tbody>\n",
       "</table>\n",
       "</div>"
      ],
      "text/plain": [
       "          dt  AverageTemperature  AverageTemperatureUncertainty     City  \\\n",
       "0 1850-04-01                 NaN                            NaN  Bontang   \n",
       "1 1859-05-01                 NaN                            NaN  Bontang   \n",
       "2 1862-09-01                 NaN                            NaN  Bontang   \n",
       "3 1863-09-01                 NaN                            NaN  Butembo   \n",
       "4 1864-07-01              20.314                          1.248  Butembo   \n",
       "\n",
       "                              Country Latitude Longitude  \n",
       "0                           Indonesia    0.80N   118.13E  \n",
       "1                           Indonesia    0.80N   118.13E  \n",
       "2                           Indonesia    0.80N   118.13E  \n",
       "3  Congo (Democratic Republic Of The)    0.80N    29.73E  \n",
       "4  Congo (Democratic Republic Of The)    0.80N    29.73E  "
      ]
     },
     "execution_count": 17,
     "metadata": {},
     "output_type": "execute_result"
    }
   ],
   "source": [
    "temperature_df_cleanup.limit(5).toPandas().head(5)"
   ]
  },
  {
   "cell_type": "code",
   "execution_count": 18,
   "metadata": {
    "editable": true
   },
   "outputs": [
    {
     "data": {
      "text/html": [
       "<div>\n",
       "<style scoped>\n",
       "    .dataframe tbody tr th:only-of-type {\n",
       "        vertical-align: middle;\n",
       "    }\n",
       "\n",
       "    .dataframe tbody tr th {\n",
       "        vertical-align: top;\n",
       "    }\n",
       "\n",
       "    .dataframe thead th {\n",
       "        text-align: right;\n",
       "    }\n",
       "</style>\n",
       "<table border=\"1\" class=\"dataframe\">\n",
       "  <thead>\n",
       "    <tr style=\"text-align: right;\">\n",
       "      <th></th>\n",
       "      <th>dt</th>\n",
       "      <th>AverageTemperature</th>\n",
       "      <th>AverageTemperatureUncertainty</th>\n",
       "      <th>City</th>\n",
       "      <th>Country</th>\n",
       "      <th>Latitude</th>\n",
       "      <th>Longitude</th>\n",
       "    </tr>\n",
       "  </thead>\n",
       "  <tbody>\n",
       "    <tr>\n",
       "      <th>0</th>\n",
       "      <td>1848-06-01</td>\n",
       "      <td>24.970</td>\n",
       "      <td>1.799</td>\n",
       "      <td>Abilene</td>\n",
       "      <td>United States</td>\n",
       "      <td>32.95N</td>\n",
       "      <td>100.53W</td>\n",
       "    </tr>\n",
       "    <tr>\n",
       "      <th>1</th>\n",
       "      <td>1892-05-01</td>\n",
       "      <td>21.656</td>\n",
       "      <td>0.501</td>\n",
       "      <td>Abilene</td>\n",
       "      <td>United States</td>\n",
       "      <td>32.95N</td>\n",
       "      <td>100.53W</td>\n",
       "    </tr>\n",
       "    <tr>\n",
       "      <th>2</th>\n",
       "      <td>1917-02-01</td>\n",
       "      <td>8.004</td>\n",
       "      <td>0.518</td>\n",
       "      <td>Abilene</td>\n",
       "      <td>United States</td>\n",
       "      <td>32.95N</td>\n",
       "      <td>100.53W</td>\n",
       "    </tr>\n",
       "    <tr>\n",
       "      <th>3</th>\n",
       "      <td>1937-04-01</td>\n",
       "      <td>17.291</td>\n",
       "      <td>0.307</td>\n",
       "      <td>Abilene</td>\n",
       "      <td>United States</td>\n",
       "      <td>32.95N</td>\n",
       "      <td>100.53W</td>\n",
       "    </tr>\n",
       "    <tr>\n",
       "      <th>4</th>\n",
       "      <td>1942-09-01</td>\n",
       "      <td>21.529</td>\n",
       "      <td>0.319</td>\n",
       "      <td>Abilene</td>\n",
       "      <td>United States</td>\n",
       "      <td>32.95N</td>\n",
       "      <td>100.53W</td>\n",
       "    </tr>\n",
       "    <tr>\n",
       "      <th>5</th>\n",
       "      <td>1948-11-01</td>\n",
       "      <td>9.912</td>\n",
       "      <td>0.472</td>\n",
       "      <td>Abilene</td>\n",
       "      <td>United States</td>\n",
       "      <td>32.95N</td>\n",
       "      <td>100.53W</td>\n",
       "    </tr>\n",
       "    <tr>\n",
       "      <th>6</th>\n",
       "      <td>1954-05-01</td>\n",
       "      <td>19.402</td>\n",
       "      <td>0.260</td>\n",
       "      <td>Abilene</td>\n",
       "      <td>United States</td>\n",
       "      <td>32.95N</td>\n",
       "      <td>100.53W</td>\n",
       "    </tr>\n",
       "    <tr>\n",
       "      <th>7</th>\n",
       "      <td>1970-07-01</td>\n",
       "      <td>28.667</td>\n",
       "      <td>0.203</td>\n",
       "      <td>Abilene</td>\n",
       "      <td>United States</td>\n",
       "      <td>32.95N</td>\n",
       "      <td>100.53W</td>\n",
       "    </tr>\n",
       "    <tr>\n",
       "      <th>8</th>\n",
       "      <td>1761-05-01</td>\n",
       "      <td>18.023</td>\n",
       "      <td>2.477</td>\n",
       "      <td>Akron</td>\n",
       "      <td>United States</td>\n",
       "      <td>40.99N</td>\n",
       "      <td>80.95W</td>\n",
       "    </tr>\n",
       "    <tr>\n",
       "      <th>9</th>\n",
       "      <td>1766-03-01</td>\n",
       "      <td>3.027</td>\n",
       "      <td>2.652</td>\n",
       "      <td>Akron</td>\n",
       "      <td>United States</td>\n",
       "      <td>40.99N</td>\n",
       "      <td>80.95W</td>\n",
       "    </tr>\n",
       "  </tbody>\n",
       "</table>\n",
       "</div>"
      ],
      "text/plain": [
       "          dt  AverageTemperature  AverageTemperatureUncertainty     City  \\\n",
       "0 1848-06-01              24.970                          1.799  Abilene   \n",
       "1 1892-05-01              21.656                          0.501  Abilene   \n",
       "2 1917-02-01               8.004                          0.518  Abilene   \n",
       "3 1937-04-01              17.291                          0.307  Abilene   \n",
       "4 1942-09-01              21.529                          0.319  Abilene   \n",
       "5 1948-11-01               9.912                          0.472  Abilene   \n",
       "6 1954-05-01              19.402                          0.260  Abilene   \n",
       "7 1970-07-01              28.667                          0.203  Abilene   \n",
       "8 1761-05-01              18.023                          2.477    Akron   \n",
       "9 1766-03-01               3.027                          2.652    Akron   \n",
       "\n",
       "         Country Latitude Longitude  \n",
       "0  United States   32.95N   100.53W  \n",
       "1  United States   32.95N   100.53W  \n",
       "2  United States   32.95N   100.53W  \n",
       "3  United States   32.95N   100.53W  \n",
       "4  United States   32.95N   100.53W  \n",
       "5  United States   32.95N   100.53W  \n",
       "6  United States   32.95N   100.53W  \n",
       "7  United States   32.95N   100.53W  \n",
       "8  United States   40.99N    80.95W  \n",
       "9  United States   40.99N    80.95W  "
      ]
     },
     "execution_count": 18,
     "metadata": {},
     "output_type": "execute_result"
    }
   ],
   "source": [
    "temperature_us_df_cleanup = temperature_df_cleanup.filter(\"Country == 'United States'\")\n",
    "temperature_us_df_cleanup.limit(10).toPandas().head(10)"
   ]
  },
  {
   "cell_type": "code",
   "execution_count": 19,
   "metadata": {
    "editable": true
   },
   "outputs": [
    {
     "data": {
      "text/plain": [
       "687289"
      ]
     },
     "execution_count": 19,
     "metadata": {},
     "output_type": "execute_result"
    }
   ],
   "source": [
    "temperature_us_df_cleanup.count()"
   ]
  },
  {
   "cell_type": "code",
   "execution_count": 20,
   "metadata": {
    "editable": true
   },
   "outputs": [
    {
     "data": {
      "text/plain": [
       "DataFrame[summary: string, AverageTemperature: string, AverageTemperatureUncertainty: string, City: string, Country: string, Latitude: string, Longitude: string]"
      ]
     },
     "execution_count": 20,
     "metadata": {},
     "output_type": "execute_result"
    }
   ],
   "source": [
    "temperature_us_df_cleanup.describe()"
   ]
  },
  {
   "cell_type": "markdown",
   "metadata": {
    "editable": true
   },
   "source": [
    "### Immigration data"
   ]
  },
  {
   "cell_type": "code",
   "execution_count": 21,
   "metadata": {
    "editable": true
   },
   "outputs": [
    {
     "data": {
      "text/plain": [
       "3444249"
      ]
     },
     "execution_count": 21,
     "metadata": {},
     "output_type": "execute_result"
    }
   ],
   "source": [
    "# Count of immigration data\n",
    "immi_i94_df_cleanup.count()"
   ]
  },
  {
   "cell_type": "code",
   "execution_count": 23,
   "metadata": {
    "editable": true
   },
   "outputs": [
    {
     "data": {
      "text/html": [
       "<div>\n",
       "<style scoped>\n",
       "    .dataframe tbody tr th:only-of-type {\n",
       "        vertical-align: middle;\n",
       "    }\n",
       "\n",
       "    .dataframe tbody tr th {\n",
       "        vertical-align: top;\n",
       "    }\n",
       "\n",
       "    .dataframe thead th {\n",
       "        text-align: right;\n",
       "    }\n",
       "</style>\n",
       "<table border=\"1\" class=\"dataframe\">\n",
       "  <thead>\n",
       "    <tr style=\"text-align: right;\">\n",
       "      <th></th>\n",
       "      <th>cicid</th>\n",
       "      <th>i94yr</th>\n",
       "      <th>i94mon</th>\n",
       "      <th>i94cit</th>\n",
       "      <th>i94res</th>\n",
       "      <th>i94port</th>\n",
       "      <th>arrdate</th>\n",
       "      <th>i94mode</th>\n",
       "      <th>i94addr</th>\n",
       "      <th>depdate</th>\n",
       "      <th>...</th>\n",
       "      <th>entdepu</th>\n",
       "      <th>matflag</th>\n",
       "      <th>biryear</th>\n",
       "      <th>dtaddto</th>\n",
       "      <th>gender</th>\n",
       "      <th>insnum</th>\n",
       "      <th>airline</th>\n",
       "      <th>admnum</th>\n",
       "      <th>fltno</th>\n",
       "      <th>visatype</th>\n",
       "    </tr>\n",
       "  </thead>\n",
       "  <tbody>\n",
       "    <tr>\n",
       "      <th>0</th>\n",
       "      <td>244.0</td>\n",
       "      <td>2016.0</td>\n",
       "      <td>5.0</td>\n",
       "      <td>103.0</td>\n",
       "      <td>103.0</td>\n",
       "      <td>NYC</td>\n",
       "      <td>20575.0</td>\n",
       "      <td>1.0</td>\n",
       "      <td>NY</td>\n",
       "      <td>20584.0</td>\n",
       "      <td>...</td>\n",
       "      <td>None</td>\n",
       "      <td>M</td>\n",
       "      <td>1964.0</td>\n",
       "      <td>07292016</td>\n",
       "      <td>F</td>\n",
       "      <td>None</td>\n",
       "      <td>OS</td>\n",
       "      <td>5.960403e+10</td>\n",
       "      <td>00087</td>\n",
       "      <td>WT</td>\n",
       "    </tr>\n",
       "    <tr>\n",
       "      <th>1</th>\n",
       "      <td>315.0</td>\n",
       "      <td>2016.0</td>\n",
       "      <td>5.0</td>\n",
       "      <td>103.0</td>\n",
       "      <td>103.0</td>\n",
       "      <td>LOS</td>\n",
       "      <td>20575.0</td>\n",
       "      <td>1.0</td>\n",
       "      <td>CA</td>\n",
       "      <td>20586.0</td>\n",
       "      <td>...</td>\n",
       "      <td>None</td>\n",
       "      <td>M</td>\n",
       "      <td>1982.0</td>\n",
       "      <td>07292016</td>\n",
       "      <td>M</td>\n",
       "      <td>None</td>\n",
       "      <td>AF</td>\n",
       "      <td>5.961125e+10</td>\n",
       "      <td>00066</td>\n",
       "      <td>WT</td>\n",
       "    </tr>\n",
       "    <tr>\n",
       "      <th>2</th>\n",
       "      <td>630.0</td>\n",
       "      <td>2016.0</td>\n",
       "      <td>5.0</td>\n",
       "      <td>103.0</td>\n",
       "      <td>103.0</td>\n",
       "      <td>NYC</td>\n",
       "      <td>20575.0</td>\n",
       "      <td>1.0</td>\n",
       "      <td>NY</td>\n",
       "      <td>20622.0</td>\n",
       "      <td>...</td>\n",
       "      <td>None</td>\n",
       "      <td>M</td>\n",
       "      <td>1995.0</td>\n",
       "      <td>D/S</td>\n",
       "      <td>M</td>\n",
       "      <td>None</td>\n",
       "      <td>OS</td>\n",
       "      <td>9.508687e+10</td>\n",
       "      <td>00087</td>\n",
       "      <td>F1</td>\n",
       "    </tr>\n",
       "    <tr>\n",
       "      <th>3</th>\n",
       "      <td>784.0</td>\n",
       "      <td>2016.0</td>\n",
       "      <td>5.0</td>\n",
       "      <td>104.0</td>\n",
       "      <td>104.0</td>\n",
       "      <td>ATL</td>\n",
       "      <td>20575.0</td>\n",
       "      <td>1.0</td>\n",
       "      <td>TN</td>\n",
       "      <td>20579.0</td>\n",
       "      <td>...</td>\n",
       "      <td>None</td>\n",
       "      <td>M</td>\n",
       "      <td>1977.0</td>\n",
       "      <td>07292016</td>\n",
       "      <td>M</td>\n",
       "      <td>None</td>\n",
       "      <td>DL</td>\n",
       "      <td>5.960370e+10</td>\n",
       "      <td>00025</td>\n",
       "      <td>WT</td>\n",
       "    </tr>\n",
       "    <tr>\n",
       "      <th>4</th>\n",
       "      <td>1341.0</td>\n",
       "      <td>2016.0</td>\n",
       "      <td>5.0</td>\n",
       "      <td>104.0</td>\n",
       "      <td>104.0</td>\n",
       "      <td>ORL</td>\n",
       "      <td>20575.0</td>\n",
       "      <td>1.0</td>\n",
       "      <td>FL</td>\n",
       "      <td>20594.0</td>\n",
       "      <td>...</td>\n",
       "      <td>None</td>\n",
       "      <td>M</td>\n",
       "      <td>2010.0</td>\n",
       "      <td>07292016</td>\n",
       "      <td>None</td>\n",
       "      <td>None</td>\n",
       "      <td>LH</td>\n",
       "      <td>5.962596e+10</td>\n",
       "      <td>00464</td>\n",
       "      <td>WT</td>\n",
       "    </tr>\n",
       "  </tbody>\n",
       "</table>\n",
       "<p>5 rows × 28 columns</p>\n",
       "</div>"
      ],
      "text/plain": [
       "    cicid   i94yr  i94mon  i94cit  i94res i94port  arrdate  i94mode i94addr  \\\n",
       "0   244.0  2016.0     5.0   103.0   103.0     NYC  20575.0      1.0      NY   \n",
       "1   315.0  2016.0     5.0   103.0   103.0     LOS  20575.0      1.0      CA   \n",
       "2   630.0  2016.0     5.0   103.0   103.0     NYC  20575.0      1.0      NY   \n",
       "3   784.0  2016.0     5.0   104.0   104.0     ATL  20575.0      1.0      TN   \n",
       "4  1341.0  2016.0     5.0   104.0   104.0     ORL  20575.0      1.0      FL   \n",
       "\n",
       "   depdate   ...     entdepu  matflag  biryear   dtaddto gender insnum  \\\n",
       "0  20584.0   ...        None        M   1964.0  07292016      F   None   \n",
       "1  20586.0   ...        None        M   1982.0  07292016      M   None   \n",
       "2  20622.0   ...        None        M   1995.0       D/S      M   None   \n",
       "3  20579.0   ...        None        M   1977.0  07292016      M   None   \n",
       "4  20594.0   ...        None        M   2010.0  07292016   None   None   \n",
       "\n",
       "  airline        admnum  fltno visatype  \n",
       "0      OS  5.960403e+10  00087       WT  \n",
       "1      AF  5.961125e+10  00066       WT  \n",
       "2      OS  9.508687e+10  00087       F1  \n",
       "3      DL  5.960370e+10  00025       WT  \n",
       "4      LH  5.962596e+10  00464       WT  \n",
       "\n",
       "[5 rows x 28 columns]"
      ]
     },
     "execution_count": 23,
     "metadata": {},
     "output_type": "execute_result"
    }
   ],
   "source": [
    "immi_i94_df_cleanup.limit(5).toPandas().head(5)"
   ]
  },
  {
   "cell_type": "markdown",
   "metadata": {
    "editable": true
   },
   "source": [
    "### Create Valid port List"
   ]
  },
  {
   "cell_type": "code",
   "execution_count": 24,
   "metadata": {
    "editable": true
   },
   "outputs": [
    {
     "name": "stdout",
     "output_type": "stream",
     "text": [
      "659\n"
     ]
    }
   ],
   "source": [
    "i94_sas_label_descriptions_fname = \"I94_SAS_Labels_Descriptions.SAS\"\n",
    "with open(i94_sas_label_descriptions_fname) as f:\n",
    "    lines = f.readlines()\n",
    "re_compiled = re.compile(r\"\\'(.*)\\'.*\\'(.*)\\'\")\n",
    "valid_ports = {}\n",
    "for line in lines[302:961]:\n",
    "    results = re_compiled.search(line)\n",
    "    valid_ports[results.group(1)] = results.group(2)\n",
    "print(len(valid_ports))\n"
   ]
  },
  {
   "cell_type": "markdown",
   "metadata": {
    "editable": true
   },
   "source": [
    "### Create Valid states List"
   ]
  },
  {
   "cell_type": "code",
   "execution_count": 25,
   "metadata": {
    "editable": true
   },
   "outputs": [
    {
     "name": "stdout",
     "output_type": "stream",
     "text": [
      "['MD', 'MA', 'AL', 'CA', 'NJ', 'IL', 'AZ', 'MO', 'NC', 'PA', 'KS', 'FL', 'TX', 'VA', 'NV', 'CO', 'MI', 'CT', 'MN', 'UT', 'AR', 'TN', 'OK', 'WA', 'NY', 'GA', 'NE', 'KY', 'SC', 'LA', 'NM', 'IA', 'RI', 'PR', 'DC', 'WI', 'OR', 'NH', 'ND', 'DE', 'OH', 'ID', 'IN', 'AK', 'MS', 'HI', 'SD', 'ME', 'MT']\n"
     ]
    }
   ],
   "source": [
    "valid_states = demog_df.toPandas()[\"State Code\"].unique().tolist()\n",
    "type(valid_states)\n",
    "print(valid_states)"
   ]
  },
  {
   "cell_type": "markdown",
   "metadata": {
    "editable": true
   },
   "source": [
    "### Step 3: Define the Data Model\n",
    "#### 3.1 Conceptual Data Model\n",
    "Following star scheam is designed , it is very simple and powerful.\n",
    "\n",
    "\n",
    "### staging_immi_i94_df\n",
    "    id\n",
    "    date\n",
    "    city_code\n",
    "    state_code\n",
    "    age\n",
    "    gender\n",
    "    visa_type\n",
    "    count\n",
    "\n",
    "### staging_temperature_df\n",
    "    year\n",
    "    month\n",
    "    city_code\n",
    "    city_name\n",
    "    avg_temp\n",
    "    lat\n",
    "    long\n",
    "\n",
    "### staging_demog_df\n",
    "    city_code\n",
    "    state_code\n",
    "    city_name\n",
    "    medianAge\n",
    "    male_pop\n",
    "    female_pop\n",
    "    veterans\n",
    "    foreign_born\n",
    "    total_pop\n",
    "### Dimension Tables\n",
    "### dim_imm_df\n",
    "    id\n",
    "    gender\n",
    "    age\n",
    "    visa_type\n",
    "    \n",
    "#### dim_city_df\n",
    "    city_code\n",
    "    state_code\n",
    "    city_name\n",
    "    medianAge\n",
    "    male_pop\n",
    "    female_pop\n",
    "    veterans\n",
    "    foreign_born\n",
    "    total_pop\n",
    "    lat\n",
    "    long\n",
    "### dim_monthly_city_temp_df\n",
    "    city_code\n",
    "    year\n",
    "    month\n",
    "    avg_temp\n",
    "\n",
    "### dim_time_df\n",
    "    date\n",
    "    dayofweek\n",
    "    weekofyear\n",
    "    month\n",
    "### Fact Table\n",
    "### fact_immigrations\n",
    "    id\n",
    "    state_code\n",
    "    city_code\n",
    "    date\n",
    "    count"
   ]
  },
  {
   "cell_type": "markdown",
   "metadata": {
    "editable": true
   },
   "source": [
    "#### 3.2 Mapping Out Data Pipelines\n",
    "\n",
    "### Steps necessary to pipeline the data into the chosen data model\n",
    "\n",
    "1. Clean the data on nulls, data types, duplicates, etc\n",
    "2. Load staging tables for staging_immi_i94_df, staging_temperature_df and staging_demog_df\n",
    "3. Create dimension tables for dim_imm_df, dim_city_df, dim_monthly_city_temp_df and dim_time_df\n",
    "4. Create fact table fact_immigration_df with information on immigration count, mapping id in imm_df, city_code in city_df and monthly_city_temp_df and date in time_df to make sure  referential integrity\n",
    "5. Save processed dimension and fact tables in parquet for downstream query"
   ]
  },
  {
   "cell_type": "code",
   "execution_count": 26,
   "metadata": {
    "editable": true
   },
   "outputs": [],
   "source": [
    "# create a function\n",
    "@udf(StringType())\n",
    "def state_validation(st):\n",
    "    print(st)\n",
    "    if st in valid_states:\n",
    "        return  st\n",
    "    return 'None'"
   ]
  },
  {
   "cell_type": "code",
   "execution_count": 27,
   "metadata": {
    "editable": true
   },
   "outputs": [],
   "source": [
    "# convert date\n",
    "@udf(StringType())\n",
    "def conv_date(x):\n",
    "    if x:\n",
    "        return (datetime(1960,1,1).date() + timedelta(x)).isoformat()\n",
    "    return None\n"
   ]
  },
  {
   "cell_type": "code",
   "execution_count": 28,
   "metadata": {
    "editable": true
   },
   "outputs": [],
   "source": [
    "## Clean immigraton data\n",
    "# Remove any missing values ( any null value from columns i94port, i94addr, gender)\n",
    "immi_i94_cleaned_df = immi_i94_df.dropna(how=\"any\", subset=[\"i94port\",\"i94addr\",\"gender\"])"
   ]
  },
  {
   "cell_type": "code",
   "execution_count": 29,
   "metadata": {
    "editable": true
   },
   "outputs": [
    {
     "data": {
      "text/html": [
       "<div>\n",
       "<style scoped>\n",
       "    .dataframe tbody tr th:only-of-type {\n",
       "        vertical-align: middle;\n",
       "    }\n",
       "\n",
       "    .dataframe tbody tr th {\n",
       "        vertical-align: top;\n",
       "    }\n",
       "\n",
       "    .dataframe thead th {\n",
       "        text-align: right;\n",
       "    }\n",
       "</style>\n",
       "<table border=\"1\" class=\"dataframe\">\n",
       "  <thead>\n",
       "    <tr style=\"text-align: right;\">\n",
       "      <th></th>\n",
       "      <th>cicid</th>\n",
       "      <th>i94yr</th>\n",
       "      <th>i94mon</th>\n",
       "      <th>i94cit</th>\n",
       "      <th>i94res</th>\n",
       "      <th>i94port</th>\n",
       "      <th>arrdate</th>\n",
       "      <th>i94mode</th>\n",
       "      <th>i94addr</th>\n",
       "      <th>depdate</th>\n",
       "      <th>...</th>\n",
       "      <th>entdepu</th>\n",
       "      <th>matflag</th>\n",
       "      <th>biryear</th>\n",
       "      <th>dtaddto</th>\n",
       "      <th>gender</th>\n",
       "      <th>insnum</th>\n",
       "      <th>airline</th>\n",
       "      <th>admnum</th>\n",
       "      <th>fltno</th>\n",
       "      <th>visatype</th>\n",
       "    </tr>\n",
       "  </thead>\n",
       "  <tbody>\n",
       "    <tr>\n",
       "      <th>0</th>\n",
       "      <td>13.0</td>\n",
       "      <td>2016.0</td>\n",
       "      <td>5.0</td>\n",
       "      <td>213.0</td>\n",
       "      <td>213.0</td>\n",
       "      <td>CHI</td>\n",
       "      <td>20577.0</td>\n",
       "      <td>1.0</td>\n",
       "      <td>IL</td>\n",
       "      <td>20270.0</td>\n",
       "      <td>...</td>\n",
       "      <td>None</td>\n",
       "      <td>M</td>\n",
       "      <td>1987.0</td>\n",
       "      <td>D/S</td>\n",
       "      <td>F</td>\n",
       "      <td>None</td>\n",
       "      <td>EK</td>\n",
       "      <td>6.479287e+10</td>\n",
       "      <td>00235</td>\n",
       "      <td>F1</td>\n",
       "    </tr>\n",
       "    <tr>\n",
       "      <th>1</th>\n",
       "      <td>22.0</td>\n",
       "      <td>2016.0</td>\n",
       "      <td>5.0</td>\n",
       "      <td>101.0</td>\n",
       "      <td>101.0</td>\n",
       "      <td>BOS</td>\n",
       "      <td>20575.0</td>\n",
       "      <td>1.0</td>\n",
       "      <td>NY</td>\n",
       "      <td>20587.0</td>\n",
       "      <td>...</td>\n",
       "      <td>None</td>\n",
       "      <td>M</td>\n",
       "      <td>1963.0</td>\n",
       "      <td>10312016</td>\n",
       "      <td>F</td>\n",
       "      <td>None</td>\n",
       "      <td>BA</td>\n",
       "      <td>9.110239e+08</td>\n",
       "      <td>215</td>\n",
       "      <td>B2</td>\n",
       "    </tr>\n",
       "    <tr>\n",
       "      <th>2</th>\n",
       "      <td>28.0</td>\n",
       "      <td>2016.0</td>\n",
       "      <td>5.0</td>\n",
       "      <td>101.0</td>\n",
       "      <td>101.0</td>\n",
       "      <td>MIA</td>\n",
       "      <td>20575.0</td>\n",
       "      <td>1.0</td>\n",
       "      <td>FL</td>\n",
       "      <td>20596.0</td>\n",
       "      <td>...</td>\n",
       "      <td>None</td>\n",
       "      <td>M</td>\n",
       "      <td>1984.0</td>\n",
       "      <td>10312016</td>\n",
       "      <td>F</td>\n",
       "      <td>None</td>\n",
       "      <td>AZ</td>\n",
       "      <td>9.093665e+08</td>\n",
       "      <td>630</td>\n",
       "      <td>B2</td>\n",
       "    </tr>\n",
       "    <tr>\n",
       "      <th>3</th>\n",
       "      <td>29.0</td>\n",
       "      <td>2016.0</td>\n",
       "      <td>5.0</td>\n",
       "      <td>101.0</td>\n",
       "      <td>101.0</td>\n",
       "      <td>WAS</td>\n",
       "      <td>20575.0</td>\n",
       "      <td>1.0</td>\n",
       "      <td>NY</td>\n",
       "      <td>20589.0</td>\n",
       "      <td>...</td>\n",
       "      <td>None</td>\n",
       "      <td>M</td>\n",
       "      <td>1988.0</td>\n",
       "      <td>10312016</td>\n",
       "      <td>F</td>\n",
       "      <td>None</td>\n",
       "      <td>UA</td>\n",
       "      <td>9.507705e+10</td>\n",
       "      <td>00951</td>\n",
       "      <td>B2</td>\n",
       "    </tr>\n",
       "    <tr>\n",
       "      <th>4</th>\n",
       "      <td>34.0</td>\n",
       "      <td>2016.0</td>\n",
       "      <td>5.0</td>\n",
       "      <td>101.0</td>\n",
       "      <td>101.0</td>\n",
       "      <td>BOS</td>\n",
       "      <td>20575.0</td>\n",
       "      <td>1.0</td>\n",
       "      <td>MA</td>\n",
       "      <td>20583.0</td>\n",
       "      <td>...</td>\n",
       "      <td>None</td>\n",
       "      <td>M</td>\n",
       "      <td>1957.0</td>\n",
       "      <td>10312016</td>\n",
       "      <td>M</td>\n",
       "      <td>None</td>\n",
       "      <td>AZ</td>\n",
       "      <td>9.510888e+10</td>\n",
       "      <td>00614</td>\n",
       "      <td>B2</td>\n",
       "    </tr>\n",
       "    <tr>\n",
       "      <th>5</th>\n",
       "      <td>37.0</td>\n",
       "      <td>2016.0</td>\n",
       "      <td>5.0</td>\n",
       "      <td>101.0</td>\n",
       "      <td>101.0</td>\n",
       "      <td>WAS</td>\n",
       "      <td>20575.0</td>\n",
       "      <td>1.0</td>\n",
       "      <td>MD</td>\n",
       "      <td>20594.0</td>\n",
       "      <td>...</td>\n",
       "      <td>None</td>\n",
       "      <td>M</td>\n",
       "      <td>1965.0</td>\n",
       "      <td>10312016</td>\n",
       "      <td>F</td>\n",
       "      <td>None</td>\n",
       "      <td>UA</td>\n",
       "      <td>9.511544e+10</td>\n",
       "      <td>00933</td>\n",
       "      <td>B2</td>\n",
       "    </tr>\n",
       "    <tr>\n",
       "      <th>6</th>\n",
       "      <td>38.0</td>\n",
       "      <td>2016.0</td>\n",
       "      <td>5.0</td>\n",
       "      <td>101.0</td>\n",
       "      <td>101.0</td>\n",
       "      <td>WAS</td>\n",
       "      <td>20575.0</td>\n",
       "      <td>1.0</td>\n",
       "      <td>VA</td>\n",
       "      <td>20630.0</td>\n",
       "      <td>...</td>\n",
       "      <td>None</td>\n",
       "      <td>M</td>\n",
       "      <td>1981.0</td>\n",
       "      <td>10312016</td>\n",
       "      <td>F</td>\n",
       "      <td>None</td>\n",
       "      <td>UA</td>\n",
       "      <td>9.511538e+10</td>\n",
       "      <td>00933</td>\n",
       "      <td>B2</td>\n",
       "    </tr>\n",
       "    <tr>\n",
       "      <th>7</th>\n",
       "      <td>39.0</td>\n",
       "      <td>2016.0</td>\n",
       "      <td>5.0</td>\n",
       "      <td>101.0</td>\n",
       "      <td>101.0</td>\n",
       "      <td>NYC</td>\n",
       "      <td>20575.0</td>\n",
       "      <td>1.0</td>\n",
       "      <td>NY</td>\n",
       "      <td>NaN</td>\n",
       "      <td>...</td>\n",
       "      <td>None</td>\n",
       "      <td>None</td>\n",
       "      <td>1997.0</td>\n",
       "      <td>D/S</td>\n",
       "      <td>F</td>\n",
       "      <td>None</td>\n",
       "      <td>TK</td>\n",
       "      <td>9.510222e+10</td>\n",
       "      <td>00001</td>\n",
       "      <td>F1</td>\n",
       "    </tr>\n",
       "    <tr>\n",
       "      <th>8</th>\n",
       "      <td>42.0</td>\n",
       "      <td>2016.0</td>\n",
       "      <td>5.0</td>\n",
       "      <td>101.0</td>\n",
       "      <td>101.0</td>\n",
       "      <td>NYC</td>\n",
       "      <td>20575.0</td>\n",
       "      <td>1.0</td>\n",
       "      <td>NY</td>\n",
       "      <td>NaN</td>\n",
       "      <td>...</td>\n",
       "      <td>None</td>\n",
       "      <td>None</td>\n",
       "      <td>1995.0</td>\n",
       "      <td>D/S</td>\n",
       "      <td>F</td>\n",
       "      <td>None</td>\n",
       "      <td>AY</td>\n",
       "      <td>9.509039e+10</td>\n",
       "      <td>00005</td>\n",
       "      <td>F1</td>\n",
       "    </tr>\n",
       "    <tr>\n",
       "      <th>9</th>\n",
       "      <td>43.0</td>\n",
       "      <td>2016.0</td>\n",
       "      <td>5.0</td>\n",
       "      <td>101.0</td>\n",
       "      <td>101.0</td>\n",
       "      <td>LOS</td>\n",
       "      <td>20575.0</td>\n",
       "      <td>1.0</td>\n",
       "      <td>CA</td>\n",
       "      <td>20580.0</td>\n",
       "      <td>...</td>\n",
       "      <td>None</td>\n",
       "      <td>M</td>\n",
       "      <td>1955.0</td>\n",
       "      <td>10312016</td>\n",
       "      <td>M</td>\n",
       "      <td>None</td>\n",
       "      <td>BA</td>\n",
       "      <td>9.509380e+10</td>\n",
       "      <td>00283</td>\n",
       "      <td>B2</td>\n",
       "    </tr>\n",
       "  </tbody>\n",
       "</table>\n",
       "<p>10 rows × 28 columns</p>\n",
       "</div>"
      ],
      "text/plain": [
       "   cicid   i94yr  i94mon  i94cit  i94res i94port  arrdate  i94mode i94addr  \\\n",
       "0   13.0  2016.0     5.0   213.0   213.0     CHI  20577.0      1.0      IL   \n",
       "1   22.0  2016.0     5.0   101.0   101.0     BOS  20575.0      1.0      NY   \n",
       "2   28.0  2016.0     5.0   101.0   101.0     MIA  20575.0      1.0      FL   \n",
       "3   29.0  2016.0     5.0   101.0   101.0     WAS  20575.0      1.0      NY   \n",
       "4   34.0  2016.0     5.0   101.0   101.0     BOS  20575.0      1.0      MA   \n",
       "5   37.0  2016.0     5.0   101.0   101.0     WAS  20575.0      1.0      MD   \n",
       "6   38.0  2016.0     5.0   101.0   101.0     WAS  20575.0      1.0      VA   \n",
       "7   39.0  2016.0     5.0   101.0   101.0     NYC  20575.0      1.0      NY   \n",
       "8   42.0  2016.0     5.0   101.0   101.0     NYC  20575.0      1.0      NY   \n",
       "9   43.0  2016.0     5.0   101.0   101.0     LOS  20575.0      1.0      CA   \n",
       "\n",
       "   depdate   ...     entdepu  matflag  biryear   dtaddto gender insnum  \\\n",
       "0  20270.0   ...        None        M   1987.0       D/S      F   None   \n",
       "1  20587.0   ...        None        M   1963.0  10312016      F   None   \n",
       "2  20596.0   ...        None        M   1984.0  10312016      F   None   \n",
       "3  20589.0   ...        None        M   1988.0  10312016      F   None   \n",
       "4  20583.0   ...        None        M   1957.0  10312016      M   None   \n",
       "5  20594.0   ...        None        M   1965.0  10312016      F   None   \n",
       "6  20630.0   ...        None        M   1981.0  10312016      F   None   \n",
       "7      NaN   ...        None     None   1997.0       D/S      F   None   \n",
       "8      NaN   ...        None     None   1995.0       D/S      F   None   \n",
       "9  20580.0   ...        None        M   1955.0  10312016      M   None   \n",
       "\n",
       "  airline        admnum  fltno visatype  \n",
       "0      EK  6.479287e+10  00235       F1  \n",
       "1      BA  9.110239e+08    215       B2  \n",
       "2      AZ  9.093665e+08    630       B2  \n",
       "3      UA  9.507705e+10  00951       B2  \n",
       "4      AZ  9.510888e+10  00614       B2  \n",
       "5      UA  9.511544e+10  00933       B2  \n",
       "6      UA  9.511538e+10  00933       B2  \n",
       "7      TK  9.510222e+10  00001       F1  \n",
       "8      AY  9.509039e+10  00005       F1  \n",
       "9      BA  9.509380e+10  00283       B2  \n",
       "\n",
       "[10 rows x 28 columns]"
      ]
     },
     "execution_count": 29,
     "metadata": {},
     "output_type": "execute_result"
    }
   ],
   "source": [
    "immi_i94_cleaned_df.limit(10).toPandas().head(10)"
   ]
  },
  {
   "cell_type": "code",
   "execution_count": 30,
   "metadata": {
    "editable": true
   },
   "outputs": [],
   "source": [
    "immi_i94_cleaned_df = immi_i94_cleaned_df.withColumn(\"i94addr\", state_validation(immi_i94_cleaned_df.i94addr))"
   ]
  },
  {
   "cell_type": "code",
   "execution_count": 31,
   "metadata": {
    "editable": true
   },
   "outputs": [],
   "source": [
    "# Convert arrival_date (SAS format) to PySpark format\n",
    "immi_i94_cleaned_df = immi_i94_cleaned_df.withColumn(\"arrdate\", conv_date(immi_i94_cleaned_df.arrdate))"
   ]
  },
  {
   "cell_type": "code",
   "execution_count": 32,
   "metadata": {
    "editable": true
   },
   "outputs": [],
   "source": [
    "# Immigration data related to US\n",
    "immi_i94_cleaned_df = immi_i94_cleaned_df.filter(immi_i94_cleaned_df.i94addr != 'other')\n"
   ]
  },
  {
   "cell_type": "code",
   "execution_count": 33,
   "metadata": {
    "editable": true
   },
   "outputs": [
    {
     "data": {
      "text/plain": [
       "2795121"
      ]
     },
     "execution_count": 33,
     "metadata": {},
     "output_type": "execute_result"
    }
   ],
   "source": [
    "immi_i94_cleaned_df.count()"
   ]
  },
  {
   "cell_type": "code",
   "execution_count": 34,
   "metadata": {
    "editable": true
   },
   "outputs": [],
   "source": [
    "### Creating table staging immi i94:\n",
    "\n",
    "staging_immi_i94_df = immi_i94_cleaned_df.select(col(\"cicid\").alias(\"id\"), \n",
    "                                       col(\"arrdate\").alias(\"date\"),\n",
    "                                       col(\"i94port\").alias(\"city_code\"),\n",
    "                                       col(\"i94addr\").alias(\"state_code\"),\n",
    "                                       col(\"i94bir\").alias(\"age\"),\n",
    "                                       col(\"gender\").alias(\"gender\"),\n",
    "                                       col(\"i94visa\").alias(\"visa_type\"),\n",
    "                                       \"count\").drop_duplicates()\n"
   ]
  },
  {
   "cell_type": "code",
   "execution_count": 35,
   "metadata": {
    "editable": true
   },
   "outputs": [
    {
     "data": {
      "text/html": [
       "<div>\n",
       "<style scoped>\n",
       "    .dataframe tbody tr th:only-of-type {\n",
       "        vertical-align: middle;\n",
       "    }\n",
       "\n",
       "    .dataframe tbody tr th {\n",
       "        vertical-align: top;\n",
       "    }\n",
       "\n",
       "    .dataframe thead th {\n",
       "        text-align: right;\n",
       "    }\n",
       "</style>\n",
       "<table border=\"1\" class=\"dataframe\">\n",
       "  <thead>\n",
       "    <tr style=\"text-align: right;\">\n",
       "      <th></th>\n",
       "      <th>id</th>\n",
       "      <th>date</th>\n",
       "      <th>city_code</th>\n",
       "      <th>state_code</th>\n",
       "      <th>age</th>\n",
       "      <th>gender</th>\n",
       "      <th>visa_type</th>\n",
       "      <th>count</th>\n",
       "    </tr>\n",
       "  </thead>\n",
       "  <tbody>\n",
       "    <tr>\n",
       "      <th>0</th>\n",
       "      <td>214.0</td>\n",
       "      <td>2016-05-01</td>\n",
       "      <td>NYC</td>\n",
       "      <td>NY</td>\n",
       "      <td>50.0</td>\n",
       "      <td>M</td>\n",
       "      <td>2.0</td>\n",
       "      <td>1.0</td>\n",
       "    </tr>\n",
       "    <tr>\n",
       "      <th>1</th>\n",
       "      <td>382.0</td>\n",
       "      <td>2016-05-01</td>\n",
       "      <td>MIA</td>\n",
       "      <td>FL</td>\n",
       "      <td>51.0</td>\n",
       "      <td>M</td>\n",
       "      <td>2.0</td>\n",
       "      <td>1.0</td>\n",
       "    </tr>\n",
       "    <tr>\n",
       "      <th>2</th>\n",
       "      <td>1308.0</td>\n",
       "      <td>2016-05-01</td>\n",
       "      <td>LOS</td>\n",
       "      <td>AZ</td>\n",
       "      <td>56.0</td>\n",
       "      <td>F</td>\n",
       "      <td>2.0</td>\n",
       "      <td>1.0</td>\n",
       "    </tr>\n",
       "    <tr>\n",
       "      <th>3</th>\n",
       "      <td>1416.0</td>\n",
       "      <td>2016-05-01</td>\n",
       "      <td>PHO</td>\n",
       "      <td>AZ</td>\n",
       "      <td>71.0</td>\n",
       "      <td>F</td>\n",
       "      <td>2.0</td>\n",
       "      <td>1.0</td>\n",
       "    </tr>\n",
       "    <tr>\n",
       "      <th>4</th>\n",
       "      <td>1470.0</td>\n",
       "      <td>2016-05-01</td>\n",
       "      <td>SLC</td>\n",
       "      <td>NV</td>\n",
       "      <td>49.0</td>\n",
       "      <td>M</td>\n",
       "      <td>1.0</td>\n",
       "      <td>1.0</td>\n",
       "    </tr>\n",
       "  </tbody>\n",
       "</table>\n",
       "</div>"
      ],
      "text/plain": [
       "       id        date city_code state_code   age gender  visa_type  count\n",
       "0   214.0  2016-05-01       NYC         NY  50.0      M        2.0    1.0\n",
       "1   382.0  2016-05-01       MIA         FL  51.0      M        2.0    1.0\n",
       "2  1308.0  2016-05-01       LOS         AZ  56.0      F        2.0    1.0\n",
       "3  1416.0  2016-05-01       PHO         AZ  71.0      F        2.0    1.0\n",
       "4  1470.0  2016-05-01       SLC         NV  49.0      M        1.0    1.0"
      ]
     },
     "execution_count": 35,
     "metadata": {},
     "output_type": "execute_result"
    }
   ],
   "source": [
    "staging_immi_i94_df.limit(5).toPandas().head()"
   ]
  },
  {
   "cell_type": "code",
   "execution_count": 36,
   "metadata": {
    "editable": true
   },
   "outputs": [],
   "source": [
    "# Create udf to map city full name to city port\n",
    "@udf(StringType())\n",
    "def city_to_port(city):\n",
    "    for key in valid_ports:\n",
    "        if city.lower() in valid_ports[key].lower():\n",
    "            return key"
   ]
  },
  {
   "cell_type": "code",
   "execution_count": 37,
   "metadata": {
    "editable": true
   },
   "outputs": [],
   "source": [
    "# Temperature Data clean up\n",
    "temperature_us_df_cleanup = temperature_df.filter(temperature_df[\"Country\"] == \"United States\") \\\n",
    "    .withColumn(\"year\", year(temperature_df['dt'])) \\\n",
    "    .withColumn(\"month\", month(temperature_df[\"dt\"])) \\\n",
    "    .withColumn(\"i94port\", city_to_port(temperature_df[\"City\"])) \\\n",
    "    .withColumn(\"AverageTemperature\", col(\"AverageTemperature\").cast(\"float\")) \\\n",
    "    .dropna(how='any', subset=[\"i94port\"])"
   ]
  },
  {
   "cell_type": "code",
   "execution_count": 38,
   "metadata": {
    "editable": true
   },
   "outputs": [],
   "source": [
    "# Data from year 2013\n",
    "temperature_us_df_cleanup = temperature_us_df_cleanup.filter(temperature_us_df_cleanup[\"year\"] == 2013)"
   ]
  },
  {
   "cell_type": "code",
   "execution_count": 39,
   "metadata": {
    "editable": true
   },
   "outputs": [
    {
     "name": "stdout",
     "output_type": "stream",
     "text": [
      "1044\n"
     ]
    },
    {
     "data": {
      "text/html": [
       "<div>\n",
       "<style scoped>\n",
       "    .dataframe tbody tr th:only-of-type {\n",
       "        vertical-align: middle;\n",
       "    }\n",
       "\n",
       "    .dataframe tbody tr th {\n",
       "        vertical-align: top;\n",
       "    }\n",
       "\n",
       "    .dataframe thead th {\n",
       "        text-align: right;\n",
       "    }\n",
       "</style>\n",
       "<table border=\"1\" class=\"dataframe\">\n",
       "  <thead>\n",
       "    <tr style=\"text-align: right;\">\n",
       "      <th></th>\n",
       "      <th>year</th>\n",
       "      <th>month</th>\n",
       "      <th>city_code</th>\n",
       "      <th>avg_temperature</th>\n",
       "      <th>lat</th>\n",
       "      <th>long</th>\n",
       "    </tr>\n",
       "  </thead>\n",
       "  <tbody>\n",
       "    <tr>\n",
       "      <th>0</th>\n",
       "      <td>2013</td>\n",
       "      <td>4</td>\n",
       "      <td>COL</td>\n",
       "      <td>16.9</td>\n",
       "      <td>32.95N</td>\n",
       "      <td>85.21W</td>\n",
       "    </tr>\n",
       "    <tr>\n",
       "      <th>1</th>\n",
       "      <td>2013</td>\n",
       "      <td>1</td>\n",
       "      <td>DAB</td>\n",
       "      <td>0.5</td>\n",
       "      <td>39.38N</td>\n",
       "      <td>83.24W</td>\n",
       "    </tr>\n",
       "    <tr>\n",
       "      <th>2</th>\n",
       "      <td>2013</td>\n",
       "      <td>1</td>\n",
       "      <td>ONT</td>\n",
       "      <td>6.8</td>\n",
       "      <td>34.56N</td>\n",
       "      <td>116.76W</td>\n",
       "    </tr>\n",
       "    <tr>\n",
       "      <th>3</th>\n",
       "      <td>2013</td>\n",
       "      <td>2</td>\n",
       "      <td>POM</td>\n",
       "      <td>5.8</td>\n",
       "      <td>45.81N</td>\n",
       "      <td>123.46W</td>\n",
       "    </tr>\n",
       "    <tr>\n",
       "      <th>4</th>\n",
       "      <td>2013</td>\n",
       "      <td>5</td>\n",
       "      <td>PRO</td>\n",
       "      <td>14.3</td>\n",
       "      <td>42.59N</td>\n",
       "      <td>72.00W</td>\n",
       "    </tr>\n",
       "  </tbody>\n",
       "</table>\n",
       "</div>"
      ],
      "text/plain": [
       "   year  month city_code  avg_temperature     lat     long\n",
       "0  2013      4       COL             16.9  32.95N   85.21W\n",
       "1  2013      1       DAB              0.5  39.38N   83.24W\n",
       "2  2013      1       ONT              6.8  34.56N  116.76W\n",
       "3  2013      2       POM              5.8  45.81N  123.46W\n",
       "4  2013      5       PRO             14.3  42.59N   72.00W"
      ]
     },
     "execution_count": 39,
     "metadata": {},
     "output_type": "execute_result"
    }
   ],
   "source": [
    "### Creating table staging i94 df \n",
    "staging_temperature_df = temperature_us_df_cleanup.select(col(\"year\"), col(\"month\"), col(\"i94port\").alias(\"city_code\"),\n",
    "                                         round(col(\"AverageTemperature\"), 1).alias(\"avg_temperature\"),\n",
    "                                         col(\"Latitude\").alias(\"lat\"), col(\"Longitude\").alias(\"long\")).drop_duplicates()\n",
    "print(staging_temperature_df.count())\n",
    "staging_temperature_df.limit(5).toPandas()"
   ]
  },
  {
   "cell_type": "code",
   "execution_count": 40,
   "metadata": {
    "editable": true
   },
   "outputs": [
    {
     "name": "stdout",
     "output_type": "stream",
     "text": [
      "root\n",
      " |-- year: integer (nullable = true)\n",
      " |-- month: integer (nullable = true)\n",
      " |-- city_code: string (nullable = true)\n",
      " |-- avg_temperature: float (nullable = true)\n",
      " |-- lat: string (nullable = true)\n",
      " |-- long: string (nullable = true)\n",
      "\n"
     ]
    }
   ],
   "source": [
    "staging_temperature_df.printSchema()"
   ]
  },
  {
   "cell_type": "code",
   "execution_count": 41,
   "metadata": {
    "editable": true
   },
   "outputs": [
    {
     "data": {
      "text/plain": [
       "883"
      ]
     },
     "execution_count": 41,
     "metadata": {},
     "output_type": "execute_result"
    }
   ],
   "source": [
    "# Cleaning the demographics data:\n",
    "\n",
    "# Calculate percentages of numeric columns\n",
    "cleaned_demog_df = demog_df.withColumn(\"median_age\", demog_df['Median Age']) \\\n",
    "    .withColumn(\"pct_male_pop\", (demog_df['Male Population'] / demog_df['Total Population']) * 100) \\\n",
    "    .withColumn(\"pct_female_pop\", (demog_df['Female Population'] / demog_df['Total Population']) * 100) \\\n",
    "    .withColumn(\"pct_veterans\", (demog_df['Number of Veterans'] / demog_df['Total Population']) * 100) \\\n",
    "    .withColumn(\"pct_foreign_born\", (demog_df['Foreign-born'] / demog_df['Total Population']) * 100) \\\n",
    "    .withColumn(\"pct_race\", (demog_df['Count'] / demog_df['Total Population']) * 100) \\\n",
    "    .withColumn(\"city_code\", city_to_port(demog_df[\"City\"])) \\\n",
    "    .dropna(how='any', subset=[\"city_code\"])\n",
    "\n",
    "cleaned_demog_df = cleaned_demog_df.select(col(\"City\").alias(\"city_name\"), col(\"State Code\").alias(\"state_code\"), \n",
    "                         \"median_age\", \"pct_male_pop\", \"pct_female_pop\",\"pct_veterans\", \n",
    "                         \"pct_foreign_born\", col(\"Total Population\").alias(\"total_pop\"), \n",
    "                         col(\"Race\").alias(\"race\"), \"pct_race\").drop_duplicates()\n",
    "\n",
    "cleaned_demog_df.count()"
   ]
  },
  {
   "cell_type": "code",
   "execution_count": 43,
   "metadata": {
    "editable": true
   },
   "outputs": [
    {
     "data": {
      "text/html": [
       "<div>\n",
       "<style scoped>\n",
       "    .dataframe tbody tr th:only-of-type {\n",
       "        vertical-align: middle;\n",
       "    }\n",
       "\n",
       "    .dataframe tbody tr th {\n",
       "        vertical-align: top;\n",
       "    }\n",
       "\n",
       "    .dataframe thead th {\n",
       "        text-align: right;\n",
       "    }\n",
       "</style>\n",
       "<table border=\"1\" class=\"dataframe\">\n",
       "  <thead>\n",
       "    <tr style=\"text-align: right;\">\n",
       "      <th></th>\n",
       "      <th>city_name</th>\n",
       "      <th>state_code</th>\n",
       "      <th>median_age</th>\n",
       "      <th>pct_male_pop</th>\n",
       "      <th>pct_female_pop</th>\n",
       "      <th>pct_veterans</th>\n",
       "      <th>pct_foreign_born</th>\n",
       "      <th>total_pop</th>\n",
       "      <th>American Indian and Alaska Native</th>\n",
       "      <th>Asian</th>\n",
       "      <th>Black or African-American</th>\n",
       "      <th>Hispanic or Latino</th>\n",
       "      <th>White</th>\n",
       "      <th>city_code</th>\n",
       "    </tr>\n",
       "  </thead>\n",
       "  <tbody>\n",
       "    <tr>\n",
       "      <th>0</th>\n",
       "      <td>Jacksonville</td>\n",
       "      <td>NC</td>\n",
       "      <td>24.2</td>\n",
       "      <td>59.402046</td>\n",
       "      <td>40.597954</td>\n",
       "      <td>12.250048</td>\n",
       "      <td>5.540133</td>\n",
       "      <td>67363</td>\n",
       "      <td>2.584505</td>\n",
       "      <td>6.240815</td>\n",
       "      <td>19.674005</td>\n",
       "      <td>17.735255</td>\n",
       "      <td>76.072918</td>\n",
       "      <td>JAC</td>\n",
       "    </tr>\n",
       "    <tr>\n",
       "      <th>1</th>\n",
       "      <td>Boise</td>\n",
       "      <td>ID</td>\n",
       "      <td>34.9</td>\n",
       "      <td>50.439344</td>\n",
       "      <td>49.560656</td>\n",
       "      <td>7.331867</td>\n",
       "      <td>6.143027</td>\n",
       "      <td>218280</td>\n",
       "      <td>1.853583</td>\n",
       "      <td>4.492395</td>\n",
       "      <td>2.021715</td>\n",
       "      <td>8.924317</td>\n",
       "      <td>93.876214</td>\n",
       "      <td>BOI</td>\n",
       "    </tr>\n",
       "    <tr>\n",
       "      <th>2</th>\n",
       "      <td>Los Angeles</td>\n",
       "      <td>CA</td>\n",
       "      <td>35.0</td>\n",
       "      <td>49.321483</td>\n",
       "      <td>50.678517</td>\n",
       "      <td>2.150535</td>\n",
       "      <td>37.398386</td>\n",
       "      <td>3971896</td>\n",
       "      <td>1.605228</td>\n",
       "      <td>12.915721</td>\n",
       "      <td>10.193318</td>\n",
       "      <td>48.760894</td>\n",
       "      <td>54.826461</td>\n",
       "      <td>LOS</td>\n",
       "    </tr>\n",
       "    <tr>\n",
       "      <th>3</th>\n",
       "      <td>Norfolk</td>\n",
       "      <td>VA</td>\n",
       "      <td>30.2</td>\n",
       "      <td>52.321697</td>\n",
       "      <td>47.678303</td>\n",
       "      <td>11.950421</td>\n",
       "      <td>6.778602</td>\n",
       "      <td>246393</td>\n",
       "      <td>1.322684</td>\n",
       "      <td>4.811013</td>\n",
       "      <td>43.788988</td>\n",
       "      <td>7.613853</td>\n",
       "      <td>51.844411</td>\n",
       "      <td>NOR</td>\n",
       "    </tr>\n",
       "    <tr>\n",
       "      <th>4</th>\n",
       "      <td>Rochester</td>\n",
       "      <td>MN</td>\n",
       "      <td>35.0</td>\n",
       "      <td>48.953803</td>\n",
       "      <td>51.046197</td>\n",
       "      <td>6.138162</td>\n",
       "      <td>15.829294</td>\n",
       "      <td>112216</td>\n",
       "      <td>1.044414</td>\n",
       "      <td>8.767912</td>\n",
       "      <td>8.398981</td>\n",
       "      <td>5.896664</td>\n",
       "      <td>83.300955</td>\n",
       "      <td>RST</td>\n",
       "    </tr>\n",
       "    <tr>\n",
       "      <th>5</th>\n",
       "      <td>Salinas</td>\n",
       "      <td>CA</td>\n",
       "      <td>30.4</td>\n",
       "      <td>49.410367</td>\n",
       "      <td>50.589633</td>\n",
       "      <td>2.554230</td>\n",
       "      <td>37.292389</td>\n",
       "      <td>157386</td>\n",
       "      <td>1.814011</td>\n",
       "      <td>7.133417</td>\n",
       "      <td>2.154575</td>\n",
       "      <td>77.005579</td>\n",
       "      <td>60.540963</td>\n",
       "      <td>SLS</td>\n",
       "    </tr>\n",
       "    <tr>\n",
       "      <th>6</th>\n",
       "      <td>South Bend</td>\n",
       "      <td>IN</td>\n",
       "      <td>32.4</td>\n",
       "      <td>48.655031</td>\n",
       "      <td>51.344969</td>\n",
       "      <td>3.573735</td>\n",
       "      <td>8.461116</td>\n",
       "      <td>103757</td>\n",
       "      <td>0.396118</td>\n",
       "      <td>1.723257</td>\n",
       "      <td>28.918531</td>\n",
       "      <td>15.865917</td>\n",
       "      <td>68.805960</td>\n",
       "      <td>SBN</td>\n",
       "    </tr>\n",
       "    <tr>\n",
       "      <th>7</th>\n",
       "      <td>Huntsville</td>\n",
       "      <td>AL</td>\n",
       "      <td>38.1</td>\n",
       "      <td>48.523113</td>\n",
       "      <td>51.476887</td>\n",
       "      <td>8.797339</td>\n",
       "      <td>6.710767</td>\n",
       "      <td>189114</td>\n",
       "      <td>0.928012</td>\n",
       "      <td>3.471980</td>\n",
       "      <td>32.552323</td>\n",
       "      <td>5.756845</td>\n",
       "      <td>64.460590</td>\n",
       "      <td>HSV</td>\n",
       "    </tr>\n",
       "    <tr>\n",
       "      <th>8</th>\n",
       "      <td>Green Bay</td>\n",
       "      <td>WI</td>\n",
       "      <td>32.9</td>\n",
       "      <td>49.911139</td>\n",
       "      <td>50.088861</td>\n",
       "      <td>5.245151</td>\n",
       "      <td>9.326085</td>\n",
       "      <td>105221</td>\n",
       "      <td>6.222142</td>\n",
       "      <td>5.371551</td>\n",
       "      <td>7.185828</td>\n",
       "      <td>15.953089</td>\n",
       "      <td>77.962574</td>\n",
       "      <td>GRB</td>\n",
       "    </tr>\n",
       "    <tr>\n",
       "      <th>9</th>\n",
       "      <td>Medford</td>\n",
       "      <td>OR</td>\n",
       "      <td>38.6</td>\n",
       "      <td>49.634689</td>\n",
       "      <td>50.365311</td>\n",
       "      <td>8.311298</td>\n",
       "      <td>7.751112</td>\n",
       "      <td>79795</td>\n",
       "      <td>1.552729</td>\n",
       "      <td>2.675606</td>\n",
       "      <td>1.505107</td>\n",
       "      <td>17.913403</td>\n",
       "      <td>94.572342</td>\n",
       "      <td>MED</td>\n",
       "    </tr>\n",
       "  </tbody>\n",
       "</table>\n",
       "</div>"
      ],
      "text/plain": [
       "      city_name state_code  median_age  pct_male_pop  pct_female_pop  \\\n",
       "0  Jacksonville         NC        24.2     59.402046       40.597954   \n",
       "1         Boise         ID        34.9     50.439344       49.560656   \n",
       "2   Los Angeles         CA        35.0     49.321483       50.678517   \n",
       "3       Norfolk         VA        30.2     52.321697       47.678303   \n",
       "4     Rochester         MN        35.0     48.953803       51.046197   \n",
       "5       Salinas         CA        30.4     49.410367       50.589633   \n",
       "6    South Bend         IN        32.4     48.655031       51.344969   \n",
       "7    Huntsville         AL        38.1     48.523113       51.476887   \n",
       "8     Green Bay         WI        32.9     49.911139       50.088861   \n",
       "9       Medford         OR        38.6     49.634689       50.365311   \n",
       "\n",
       "   pct_veterans  pct_foreign_born  total_pop  \\\n",
       "0     12.250048          5.540133      67363   \n",
       "1      7.331867          6.143027     218280   \n",
       "2      2.150535         37.398386    3971896   \n",
       "3     11.950421          6.778602     246393   \n",
       "4      6.138162         15.829294     112216   \n",
       "5      2.554230         37.292389     157386   \n",
       "6      3.573735          8.461116     103757   \n",
       "7      8.797339          6.710767     189114   \n",
       "8      5.245151          9.326085     105221   \n",
       "9      8.311298          7.751112      79795   \n",
       "\n",
       "   American Indian and Alaska Native      Asian  Black or African-American  \\\n",
       "0                           2.584505   6.240815                  19.674005   \n",
       "1                           1.853583   4.492395                   2.021715   \n",
       "2                           1.605228  12.915721                  10.193318   \n",
       "3                           1.322684   4.811013                  43.788988   \n",
       "4                           1.044414   8.767912                   8.398981   \n",
       "5                           1.814011   7.133417                   2.154575   \n",
       "6                           0.396118   1.723257                  28.918531   \n",
       "7                           0.928012   3.471980                  32.552323   \n",
       "8                           6.222142   5.371551                   7.185828   \n",
       "9                           1.552729   2.675606                   1.505107   \n",
       "\n",
       "   Hispanic or Latino      White city_code  \n",
       "0           17.735255  76.072918       JAC  \n",
       "1            8.924317  93.876214       BOI  \n",
       "2           48.760894  54.826461       LOS  \n",
       "3            7.613853  51.844411       NOR  \n",
       "4            5.896664  83.300955       RST  \n",
       "5           77.005579  60.540963       SLS  \n",
       "6           15.865917  68.805960       SBN  \n",
       "7            5.756845  64.460590       HSV  \n",
       "8           15.953089  77.962574       GRB  \n",
       "9           17.913403  94.572342       MED  "
      ]
     },
     "execution_count": 43,
     "metadata": {},
     "output_type": "execute_result"
    }
   ],
   "source": [
    "# Pivot\n",
    "pivot_demog_df = cleaned_demog_df.groupBy(\"city_name\", \"state_code\", \"median_age\", \"pct_male_pop\",\n",
    "                                        \"pct_female_pop\",\"pct_veterans\", \"pct_foreign_born\", \"total_pop\").pivot(\"Race\").avg(\"pct_race\")\n",
    "\n",
    "pivot_demog_df = pivot_demog_df.withColumn(\"city_code\", city_to_port(pivot_demog_df[\"city_name\"])) \\\n",
    "    .dropna(how='any', subset=[\"city_code\"])\n",
    "\n",
    "pivot_demog_df.limit(10).toPandas().head(10)\n",
    "\n"
   ]
  },
  {
   "cell_type": "code",
   "execution_count": 44,
   "metadata": {
    "editable": true
   },
   "outputs": [
    {
     "name": "stdout",
     "output_type": "stream",
     "text": [
      "root\n",
      " |-- city_code: string (nullable = true)\n",
      " |-- state_code: string (nullable = true)\n",
      " |-- city_name: string (nullable = true)\n",
      " |-- median_age: double (nullable = true)\n",
      " |-- pct_male_pop: double (nullable = true)\n",
      " |-- pct_female_pop: double (nullable = true)\n",
      " |-- pct_veterans: double (nullable = true)\n",
      " |-- pct_foreign_born: double (nullable = true)\n",
      " |-- pct_native_american: double (nullable = true)\n",
      " |-- pct_asian: double (nullable = true)\n",
      " |-- pct_black: double (nullable = true)\n",
      " |-- pct_hispanic_or_latino: double (nullable = true)\n",
      " |-- pct_white: double (nullable = true)\n",
      " |-- total_pop: integer (nullable = true)\n",
      "\n"
     ]
    }
   ],
   "source": [
    "staging_demog_df = pivot_demog_df.select(\"city_code\", \"state_code\", \"city_name\", \"median_age\",\n",
    "                                    round(col(\"pct_male_pop\"), 1).alias(\"pct_male_pop\"),\n",
    "                                    round(col(\"pct_female_pop\"), 1).alias(\"pct_female_pop\"),\n",
    "                                    round(col(\"pct_veterans\"), 1).alias(\"pct_veterans\"),\n",
    "                                    round(col(\"pct_veterans\"), 1).alias(\"pct_foreign_born\"),\n",
    "                                    round(col(\"American Indian and Alaska Native\"), 1).alias(\"pct_native_american\"),\n",
    "                                    round(col(\"Asian\"), 1).alias(\"pct_asian\"),\n",
    "                                    round(col(\"Black or African-American\"), 1).alias(\"pct_black\"),\n",
    "                                    round(col(\"Hispanic or Latino\"), 1).alias(\"pct_hispanic_or_latino\"),\n",
    "                                    round(col(\"White\"), 1).alias(\"pct_white\"), \"total_pop\")\n",
    "\n",
    "staging_demog_df.limit(10).toPandas()\n",
    "staging_demog_df.printSchema()"
   ]
  },
  {
   "cell_type": "markdown",
   "metadata": {
    "editable": true
   },
   "source": [
    "### Step 4: Run Pipelines to Model the Data \n",
    "#### 4.1 Create the data model\n",
    "Build the data pipelines to create the data model."
   ]
  },
  {
   "cell_type": "code",
   "execution_count": 45,
   "metadata": {
    "editable": true
   },
   "outputs": [],
   "source": [
    "# Creating Immigrant dimension Table\n",
    "dim_immigrant_df = staging_immi_i94_df.select(\"id\", \"gender\", \"age\", \"visa_type\").drop_duplicates()"
   ]
  },
  {
   "cell_type": "code",
   "execution_count": 46,
   "metadata": {
    "editable": true
   },
   "outputs": [
    {
     "data": {
      "text/plain": [
       "2795121"
      ]
     },
     "execution_count": 46,
     "metadata": {},
     "output_type": "execute_result"
    }
   ],
   "source": [
    "dim_immigrant_df.count()"
   ]
  },
  {
   "cell_type": "code",
   "execution_count": 47,
   "metadata": {
    "editable": true
   },
   "outputs": [
    {
     "data": {
      "text/html": [
       "<div>\n",
       "<style scoped>\n",
       "    .dataframe tbody tr th:only-of-type {\n",
       "        vertical-align: middle;\n",
       "    }\n",
       "\n",
       "    .dataframe tbody tr th {\n",
       "        vertical-align: top;\n",
       "    }\n",
       "\n",
       "    .dataframe thead th {\n",
       "        text-align: right;\n",
       "    }\n",
       "</style>\n",
       "<table border=\"1\" class=\"dataframe\">\n",
       "  <thead>\n",
       "    <tr style=\"text-align: right;\">\n",
       "      <th></th>\n",
       "      <th>id</th>\n",
       "      <th>gender</th>\n",
       "      <th>age</th>\n",
       "      <th>visa_type</th>\n",
       "    </tr>\n",
       "  </thead>\n",
       "  <tbody>\n",
       "    <tr>\n",
       "      <th>0</th>\n",
       "      <td>1308.0</td>\n",
       "      <td>F</td>\n",
       "      <td>56.0</td>\n",
       "      <td>2.0</td>\n",
       "    </tr>\n",
       "    <tr>\n",
       "      <th>1</th>\n",
       "      <td>73543.0</td>\n",
       "      <td>F</td>\n",
       "      <td>22.0</td>\n",
       "      <td>3.0</td>\n",
       "    </tr>\n",
       "    <tr>\n",
       "      <th>2</th>\n",
       "      <td>229938.0</td>\n",
       "      <td>M</td>\n",
       "      <td>46.0</td>\n",
       "      <td>1.0</td>\n",
       "    </tr>\n",
       "    <tr>\n",
       "      <th>3</th>\n",
       "      <td>362142.0</td>\n",
       "      <td>F</td>\n",
       "      <td>46.0</td>\n",
       "      <td>2.0</td>\n",
       "    </tr>\n",
       "    <tr>\n",
       "      <th>4</th>\n",
       "      <td>520305.0</td>\n",
       "      <td>M</td>\n",
       "      <td>36.0</td>\n",
       "      <td>2.0</td>\n",
       "    </tr>\n",
       "  </tbody>\n",
       "</table>\n",
       "</div>"
      ],
      "text/plain": [
       "         id gender   age  visa_type\n",
       "0    1308.0      F  56.0        2.0\n",
       "1   73543.0      F  22.0        3.0\n",
       "2  229938.0      M  46.0        1.0\n",
       "3  362142.0      F  46.0        2.0\n",
       "4  520305.0      M  36.0        2.0"
      ]
     },
     "execution_count": 47,
     "metadata": {},
     "output_type": "execute_result"
    }
   ],
   "source": [
    "dim_immigrant_df.limit(5).toPandas()"
   ]
  },
  {
   "cell_type": "code",
   "execution_count": 48,
   "metadata": {
    "editable": true
   },
   "outputs": [],
   "source": [
    "# Creating City dimension table \n",
    "dim_city_df = staging_demog_df.join(staging_temperature_df, \"city_code\") \\\n",
    "    .select(\"city_code\", \"state_code\", \"city_name\", \"median_age\", \"pct_male_pop\", \"pct_female_pop\", \"pct_veterans\",\n",
    "           \"pct_foreign_born\", \"pct_native_american\", \"pct_asian\", \"pct_black\",\n",
    "           \"pct_hispanic_or_latino\", \"pct_white\", \"total_pop\", \"lat\", \"long\").drop_duplicates()"
   ]
  },
  {
   "cell_type": "code",
   "execution_count": 49,
   "metadata": {
    "editable": true
   },
   "outputs": [
    {
     "data": {
      "text/plain": [
       "142"
      ]
     },
     "execution_count": 49,
     "metadata": {},
     "output_type": "execute_result"
    }
   ],
   "source": [
    "dim_city_df.count()"
   ]
  },
  {
   "cell_type": "code",
   "execution_count": 50,
   "metadata": {
    "editable": true
   },
   "outputs": [
    {
     "data": {
      "text/html": [
       "<div>\n",
       "<style scoped>\n",
       "    .dataframe tbody tr th:only-of-type {\n",
       "        vertical-align: middle;\n",
       "    }\n",
       "\n",
       "    .dataframe tbody tr th {\n",
       "        vertical-align: top;\n",
       "    }\n",
       "\n",
       "    .dataframe thead th {\n",
       "        text-align: right;\n",
       "    }\n",
       "</style>\n",
       "<table border=\"1\" class=\"dataframe\">\n",
       "  <thead>\n",
       "    <tr style=\"text-align: right;\">\n",
       "      <th></th>\n",
       "      <th>city_code</th>\n",
       "      <th>state_code</th>\n",
       "      <th>city_name</th>\n",
       "      <th>median_age</th>\n",
       "      <th>pct_male_pop</th>\n",
       "      <th>pct_female_pop</th>\n",
       "      <th>pct_veterans</th>\n",
       "      <th>pct_foreign_born</th>\n",
       "      <th>pct_native_american</th>\n",
       "      <th>pct_asian</th>\n",
       "      <th>pct_black</th>\n",
       "      <th>pct_hispanic_or_latino</th>\n",
       "      <th>pct_white</th>\n",
       "      <th>total_pop</th>\n",
       "      <th>lat</th>\n",
       "      <th>long</th>\n",
       "    </tr>\n",
       "  </thead>\n",
       "  <tbody>\n",
       "    <tr>\n",
       "      <th>0</th>\n",
       "      <td>LLB</td>\n",
       "      <td>NE</td>\n",
       "      <td>Lincoln</td>\n",
       "      <td>32.3</td>\n",
       "      <td>50.0</td>\n",
       "      <td>50.0</td>\n",
       "      <td>5.3</td>\n",
       "      <td>5.3</td>\n",
       "      <td>1.5</td>\n",
       "      <td>5.5</td>\n",
       "      <td>5.9</td>\n",
       "      <td>7.3</td>\n",
       "      <td>88.9</td>\n",
       "      <td>277346</td>\n",
       "      <td>40.99N</td>\n",
       "      <td>95.86W</td>\n",
       "    </tr>\n",
       "    <tr>\n",
       "      <th>1</th>\n",
       "      <td>CHI</td>\n",
       "      <td>IL</td>\n",
       "      <td>Chicago</td>\n",
       "      <td>34.2</td>\n",
       "      <td>48.5</td>\n",
       "      <td>51.5</td>\n",
       "      <td>2.6</td>\n",
       "      <td>2.6</td>\n",
       "      <td>0.9</td>\n",
       "      <td>7.2</td>\n",
       "      <td>32.1</td>\n",
       "      <td>28.9</td>\n",
       "      <td>50.5</td>\n",
       "      <td>2720556</td>\n",
       "      <td>42.59N</td>\n",
       "      <td>87.27W</td>\n",
       "    </tr>\n",
       "    <tr>\n",
       "      <th>2</th>\n",
       "      <td>ATL</td>\n",
       "      <td>GA</td>\n",
       "      <td>Atlanta</td>\n",
       "      <td>33.8</td>\n",
       "      <td>48.3</td>\n",
       "      <td>51.7</td>\n",
       "      <td>4.0</td>\n",
       "      <td>4.0</td>\n",
       "      <td>1.0</td>\n",
       "      <td>5.2</td>\n",
       "      <td>52.9</td>\n",
       "      <td>4.0</td>\n",
       "      <td>42.3</td>\n",
       "      <td>463875</td>\n",
       "      <td>34.56N</td>\n",
       "      <td>83.68W</td>\n",
       "    </tr>\n",
       "    <tr>\n",
       "      <th>3</th>\n",
       "      <td>JAC</td>\n",
       "      <td>MS</td>\n",
       "      <td>Jackson</td>\n",
       "      <td>31.7</td>\n",
       "      <td>46.3</td>\n",
       "      <td>53.7</td>\n",
       "      <td>4.8</td>\n",
       "      <td>4.8</td>\n",
       "      <td>0.2</td>\n",
       "      <td>0.5</td>\n",
       "      <td>81.7</td>\n",
       "      <td>1.8</td>\n",
       "      <td>16.8</td>\n",
       "      <td>170811</td>\n",
       "      <td>32.95N</td>\n",
       "      <td>90.96W</td>\n",
       "    </tr>\n",
       "    <tr>\n",
       "      <th>4</th>\n",
       "      <td>SYR</td>\n",
       "      <td>NY</td>\n",
       "      <td>Syracuse</td>\n",
       "      <td>30.3</td>\n",
       "      <td>48.2</td>\n",
       "      <td>51.8</td>\n",
       "      <td>4.1</td>\n",
       "      <td>4.1</td>\n",
       "      <td>2.5</td>\n",
       "      <td>6.5</td>\n",
       "      <td>31.9</td>\n",
       "      <td>9.3</td>\n",
       "      <td>61.5</td>\n",
       "      <td>144152</td>\n",
       "      <td>42.59N</td>\n",
       "      <td>76.36W</td>\n",
       "    </tr>\n",
       "  </tbody>\n",
       "</table>\n",
       "</div>"
      ],
      "text/plain": [
       "  city_code state_code city_name  median_age  pct_male_pop  pct_female_pop  \\\n",
       "0       LLB         NE   Lincoln        32.3          50.0            50.0   \n",
       "1       CHI         IL   Chicago        34.2          48.5            51.5   \n",
       "2       ATL         GA   Atlanta        33.8          48.3            51.7   \n",
       "3       JAC         MS   Jackson        31.7          46.3            53.7   \n",
       "4       SYR         NY  Syracuse        30.3          48.2            51.8   \n",
       "\n",
       "   pct_veterans  pct_foreign_born  pct_native_american  pct_asian  pct_black  \\\n",
       "0           5.3               5.3                  1.5        5.5        5.9   \n",
       "1           2.6               2.6                  0.9        7.2       32.1   \n",
       "2           4.0               4.0                  1.0        5.2       52.9   \n",
       "3           4.8               4.8                  0.2        0.5       81.7   \n",
       "4           4.1               4.1                  2.5        6.5       31.9   \n",
       "\n",
       "   pct_hispanic_or_latino  pct_white  total_pop     lat    long  \n",
       "0                     7.3       88.9     277346  40.99N  95.86W  \n",
       "1                    28.9       50.5    2720556  42.59N  87.27W  \n",
       "2                     4.0       42.3     463875  34.56N  83.68W  \n",
       "3                     1.8       16.8     170811  32.95N  90.96W  \n",
       "4                     9.3       61.5     144152  42.59N  76.36W  "
      ]
     },
     "execution_count": 50,
     "metadata": {},
     "output_type": "execute_result"
    }
   ],
   "source": [
    "dim_city_df.limit(5).toPandas()"
   ]
  },
  {
   "cell_type": "code",
   "execution_count": 51,
   "metadata": {
    "editable": true
   },
   "outputs": [],
   "source": [
    "# Creating monthly city temperature Dimension table\n",
    "dim_monthly_city_temp_df = staging_temperature_df.select(\"city_code\", \"year\", \"month\", \"avg_temperature\").drop_duplicates()"
   ]
  },
  {
   "cell_type": "code",
   "execution_count": 52,
   "metadata": {
    "editable": true
   },
   "outputs": [
    {
     "data": {
      "text/plain": [
       "1043"
      ]
     },
     "execution_count": 52,
     "metadata": {},
     "output_type": "execute_result"
    }
   ],
   "source": [
    "dim_monthly_city_temp_df.count()"
   ]
  },
  {
   "cell_type": "code",
   "execution_count": 53,
   "metadata": {
    "editable": true
   },
   "outputs": [
    {
     "data": {
      "text/html": [
       "<div>\n",
       "<style scoped>\n",
       "    .dataframe tbody tr th:only-of-type {\n",
       "        vertical-align: middle;\n",
       "    }\n",
       "\n",
       "    .dataframe tbody tr th {\n",
       "        vertical-align: top;\n",
       "    }\n",
       "\n",
       "    .dataframe thead th {\n",
       "        text-align: right;\n",
       "    }\n",
       "</style>\n",
       "<table border=\"1\" class=\"dataframe\">\n",
       "  <thead>\n",
       "    <tr style=\"text-align: right;\">\n",
       "      <th></th>\n",
       "      <th>city_code</th>\n",
       "      <th>year</th>\n",
       "      <th>month</th>\n",
       "      <th>avg_temperature</th>\n",
       "    </tr>\n",
       "  </thead>\n",
       "  <tbody>\n",
       "    <tr>\n",
       "      <th>0</th>\n",
       "      <td>SAA</td>\n",
       "      <td>2013</td>\n",
       "      <td>6</td>\n",
       "      <td>18.6</td>\n",
       "    </tr>\n",
       "    <tr>\n",
       "      <th>1</th>\n",
       "      <td>PHI</td>\n",
       "      <td>2013</td>\n",
       "      <td>5</td>\n",
       "      <td>16.6</td>\n",
       "    </tr>\n",
       "    <tr>\n",
       "      <th>2</th>\n",
       "      <td>BOS</td>\n",
       "      <td>2013</td>\n",
       "      <td>5</td>\n",
       "      <td>14.3</td>\n",
       "    </tr>\n",
       "    <tr>\n",
       "      <th>3</th>\n",
       "      <td>BUR</td>\n",
       "      <td>2013</td>\n",
       "      <td>3</td>\n",
       "      <td>14.5</td>\n",
       "    </tr>\n",
       "    <tr>\n",
       "      <th>4</th>\n",
       "      <td>RNO</td>\n",
       "      <td>2013</td>\n",
       "      <td>2</td>\n",
       "      <td>4.7</td>\n",
       "    </tr>\n",
       "  </tbody>\n",
       "</table>\n",
       "</div>"
      ],
      "text/plain": [
       "  city_code  year  month  avg_temperature\n",
       "0       SAA  2013      6             18.6\n",
       "1       PHI  2013      5             16.6\n",
       "2       BOS  2013      5             14.3\n",
       "3       BUR  2013      3             14.5\n",
       "4       RNO  2013      2              4.7"
      ]
     },
     "execution_count": 53,
     "metadata": {},
     "output_type": "execute_result"
    }
   ],
   "source": [
    "dim_monthly_city_temp_df.limit(5).toPandas()"
   ]
  },
  {
   "cell_type": "code",
   "execution_count": 54,
   "metadata": {
    "editable": true
   },
   "outputs": [],
   "source": [
    "# Creating Time Dimesion table\n",
    "dim_time_df = staging_immi_i94_df.withColumn(\"dayofweek\", dayofweek(\"date\"))\\\n",
    "                .withColumn(\"weekofyear\", weekofyear(\"date\"))\\\n",
    "                .withColumn(\"month\", month(\"date\"))\n",
    "                        \n",
    "dim_time_df = dim_time_df.select(\"date\", \"dayofweek\", \"weekofyear\", \"month\").drop_duplicates()"
   ]
  },
  {
   "cell_type": "code",
   "execution_count": 55,
   "metadata": {
    "editable": true
   },
   "outputs": [
    {
     "data": {
      "text/plain": [
       "31"
      ]
     },
     "execution_count": 55,
     "metadata": {},
     "output_type": "execute_result"
    }
   ],
   "source": [
    "dim_time_df.count()"
   ]
  },
  {
   "cell_type": "code",
   "execution_count": 56,
   "metadata": {
    "editable": true
   },
   "outputs": [
    {
     "data": {
      "text/html": [
       "<div>\n",
       "<style scoped>\n",
       "    .dataframe tbody tr th:only-of-type {\n",
       "        vertical-align: middle;\n",
       "    }\n",
       "\n",
       "    .dataframe tbody tr th {\n",
       "        vertical-align: top;\n",
       "    }\n",
       "\n",
       "    .dataframe thead th {\n",
       "        text-align: right;\n",
       "    }\n",
       "</style>\n",
       "<table border=\"1\" class=\"dataframe\">\n",
       "  <thead>\n",
       "    <tr style=\"text-align: right;\">\n",
       "      <th></th>\n",
       "      <th>date</th>\n",
       "      <th>dayofweek</th>\n",
       "      <th>weekofyear</th>\n",
       "      <th>month</th>\n",
       "    </tr>\n",
       "  </thead>\n",
       "  <tbody>\n",
       "    <tr>\n",
       "      <th>0</th>\n",
       "      <td>2016-05-25</td>\n",
       "      <td>4</td>\n",
       "      <td>21</td>\n",
       "      <td>5</td>\n",
       "    </tr>\n",
       "    <tr>\n",
       "      <th>1</th>\n",
       "      <td>2016-05-09</td>\n",
       "      <td>2</td>\n",
       "      <td>19</td>\n",
       "      <td>5</td>\n",
       "    </tr>\n",
       "    <tr>\n",
       "      <th>2</th>\n",
       "      <td>2016-05-02</td>\n",
       "      <td>2</td>\n",
       "      <td>18</td>\n",
       "      <td>5</td>\n",
       "    </tr>\n",
       "    <tr>\n",
       "      <th>3</th>\n",
       "      <td>2016-05-27</td>\n",
       "      <td>6</td>\n",
       "      <td>21</td>\n",
       "      <td>5</td>\n",
       "    </tr>\n",
       "    <tr>\n",
       "      <th>4</th>\n",
       "      <td>2016-05-13</td>\n",
       "      <td>6</td>\n",
       "      <td>19</td>\n",
       "      <td>5</td>\n",
       "    </tr>\n",
       "  </tbody>\n",
       "</table>\n",
       "</div>"
      ],
      "text/plain": [
       "         date  dayofweek  weekofyear  month\n",
       "0  2016-05-25          4          21      5\n",
       "1  2016-05-09          2          19      5\n",
       "2  2016-05-02          2          18      5\n",
       "3  2016-05-27          6          21      5\n",
       "4  2016-05-13          6          19      5"
      ]
     },
     "execution_count": 56,
     "metadata": {},
     "output_type": "execute_result"
    }
   ],
   "source": [
    "dim_time_df.limit(5).toPandas().head(5)"
   ]
  },
  {
   "cell_type": "code",
   "execution_count": 57,
   "metadata": {
    "editable": true
   },
   "outputs": [],
   "source": [
    "# Creating Immigration fact table\n",
    "fact_immigration_df = staging_immi_i94_df.select(\"id\", \"state_code\", \"city_code\", \"date\", \"count\").drop_duplicates()"
   ]
  },
  {
   "cell_type": "code",
   "execution_count": 58,
   "metadata": {
    "editable": true
   },
   "outputs": [
    {
     "data": {
      "text/plain": [
       "2795121"
      ]
     },
     "execution_count": 58,
     "metadata": {},
     "output_type": "execute_result"
    }
   ],
   "source": [
    "fact_immigration_df.count()"
   ]
  },
  {
   "cell_type": "code",
   "execution_count": null,
   "metadata": {
    "editable": true
   },
   "outputs": [],
   "source": [
    "fact_immigration_df.limit(5).toPandas().head(5)"
   ]
  },
  {
   "cell_type": "code",
   "execution_count": null,
   "metadata": {
    "editable": true
   },
   "outputs": [],
   "source": [
    "#Dimension Table written into the parquet\n",
    "dim_immigrant_df.write.mode(\"overwrite\").partitionBy(\"gender\", \"age\").parquet(\"immigrants\")\n",
    "dim_city_df.write.mode(\"overwrite\").partitionBy(\"state_code\").parquet(\"cities\")\n",
    "dim_monthly_city_temp_df.write.mode(\"overwrite\").parquet(\"monthly_city_temperatures\")\n",
    "dim_time_df.write.mode(\"overwrite\").parquet(\"time\")\n",
    "\n",
    "# Fact written into the parquet\n",
    "fact_immigration_df.write.mode(\"overwrite\").partitionBy(\"state_code\", \"city_code\").parquet(\"immigration\")"
   ]
  },
  {
   "cell_type": "markdown",
   "metadata": {
    "editable": true
   },
   "source": [
    "### 4.2 Data Quality Checks"
   ]
  },
  {
   "cell_type": "code",
   "execution_count": 102,
   "metadata": {
    "editable": true
   },
   "outputs": [],
   "source": [
    "\n",
    "def load_parquets():\n",
    "    # load immigration parquet file, create view and query\n",
    "    read_im_df = pySparkSession.read.parquet(\"immigrants/\")\n",
    "    immigration = read_im_df.createOrReplaceTempView(\"immigrants\")\n",
    "    table_im_df = pySparkSession.sql(\"select * from immigrants limit 10\");\n",
    "    Cleaned.data_quality_check(table_im_df, \"immigrants\")\n",
    "    table_im_df.printSchema()\n",
    "    # load cities parquet file create view and query\n",
    "    table_c_df = pySparkSession.read.parquet(\"cities/\")\n",
    "    cities = table_c_df.createOrReplaceTempView(\"cities\")\n",
    "    citi_table = pySparkSession.sql(\"select * from cities limit 10\");\n",
    "    Cleaned.data_quality_check(citi_table, \"cities\")\n",
    "    table_m_df = pySparkSession.read.parquet(\"monthly_city_temperatues/\")\n",
    "    city_temperatures = table_m_df.createOrReplaceTempView(\"city_temperatures\")\n",
    "    city_temparature_table = pySparkSession.sql(\"select * from city_temperatures limit 10\");\n",
    "    Cleaned.data_quality_check(city_temparature_table, \"city_temperatures\")\n",
    "    table_time = pySparkSession.read.parquet(\"time/\")\n",
    "    time = table_time.createOrReplaceTempView(\"time\")\n",
    "    time_table = pySparkSession.sql(\"select * from time limit 10\");\n",
    "    Cleaned.data_quality_check(time_table, \"time\")\n",
    "\n",
    "\n"
   ]
  },
  {
   "cell_type": "code",
   "execution_count": null,
   "metadata": {
    "editable": true
   },
   "outputs": [],
   "source": [
    "load"
   ]
  },
  {
   "cell_type": "markdown",
   "metadata": {
    "editable": true
   },
   "source": [
    "#### 4.3 Data dictionary \n",
    "Create a data dictionary for your data model. For each field, provide a brief description of what the data is and where it came from. You can include the data dictionary in the notebook or in a separate file."
   ]
  },
  {
   "cell_type": "markdown",
   "metadata": {
    "editable": true
   },
   "source": [
    "\n",
    "### Dimension Tables\n",
    "\n",
    "### DIM_CITY_DF\n",
    "    city_code: Information about city port code\n",
    "    state_code:Information aboutstate code of the city\n",
    "    city_name: Information about of the city\n",
    "    medianAge: Information about median age of the city\n",
    "    male_pop:  Information about city male population in %\n",
    "    female_pop:Information about city's female population in %\n",
    "    veterans:  Information about city's veteran population in %\n",
    "    foreign_born: Information about city's foreign born population in %\n",
    "    total_pop: It is city's total population\n",
    "    lat: It is latitude of the city\n",
    "    long: It is longitude of the city\n",
    "    \n",
    "### DIM_IMMIGRANT_df\n",
    "    id: Contains information about id of immigrant\n",
    "    gender:  Contains information about gender of immigrant\n",
    "    age:  Contains information about age of immigrant\n",
    "    visa_type:  Contains information about immigrant's visa type\n",
    "\n",
    "### DIM_MONTHLY_CITY_TEMP_DF\n",
    "    city_code:  Contains information about city port code\n",
    "    year:  Contains information about year\n",
    "    month:  Contains information about month \n",
    "    avg_temp: Contains information about average temperature in city for given month\n",
    "\n",
    "### DIM_TIME_DF\n",
    "    date:  Contains information about date\n",
    "    dayofweek:  Contains information about day of the week\n",
    "    weekofyear:  Contains information about week of year\n",
    "    month:  Contains information about month\n",
    "### Fact Table\n",
    "### FACT_IMMIGRATION_DF\n",
    "    id:  Contains information about id\n",
    "    state_code:  Contains information about state code of arrival city\n",
    "    city_code:  Contains information aboutcity port code of arrival city\n",
    "    date:  Contains information about date of arrival\n",
    "    count:  Contains information about count of immigrant's entries into the US"
   ]
  },
  {
   "cell_type": "markdown",
   "metadata": {
    "editable": true
   },
   "source": [
    "#### Step 5: Complete Project Write Up\n",
    "* Clearly state the rationale for the choice of tools and technologies for the project.\n",
    "\n",
    "\n",
    "Apache Spark used  because of ability to process large set of data along with apis to read data and its convenient dataframe manipulation functions\n",
    "\n",
    "* Propose how often the data should be updated and why.\n",
    "\n",
    "The immigration (i94) data set and relevant data can be updated montly as this is report can fetch mothly/seasonally. \n",
    "\n",
    "* Write a description of how you would approach the problem differently under the following scenarios:\n",
    " * The data was increased by 100x:\n",
    "There are two different options I would try to use first one is try increase the nodes in the cluster to process large amount of data and second one we can use AWS EMR cluster.\n",
    " \n",
    " * The data populates a dashboard that must be updated on a daily basis by 7am every day:\n",
    " Airflow we can use to schedule daily at 7am and can be kicked of by spark jobs\n",
    " \n",
    " * The database needed to be accessed by 100+ people:\n",
    "  Move  the database to cloud and AWS redshift has autoscaling capabilities which can take care."
   ]
  }
 ],
 "metadata": {
  "kernelspec": {
   "display_name": "Python 3",
   "language": "python",
   "name": "python3"
  },
  "language_info": {
   "codemirror_mode": {
    "name": "ipython",
    "version": 3
   },
   "file_extension": ".py",
   "mimetype": "text/x-python",
   "name": "python",
   "nbconvert_exporter": "python",
   "pygments_lexer": "ipython3",
   "version": "3.6.3"
  },
  "vscode": {
   "interpreter": {
    "hash": "111ca5a3111a9a9845126b62470b560f211341c0575eacc7ff840ea4dfd1fc2e"
   }
  }
 },
 "nbformat": 4,
 "nbformat_minor": 4
}
